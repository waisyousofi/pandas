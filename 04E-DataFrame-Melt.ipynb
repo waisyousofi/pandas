{
 "cells": [
  {
   "cell_type": "code",
   "execution_count": 1,
   "metadata": {},
   "outputs": [
    {
     "data": {
      "text/plain": [
       "'\\n@filename: DataFrame-Melt&explode\\n@author: Waisullah yousofi\\n@url: https://pandas.pydata.org/pandas-docs/stable/reference/api/pandas.melt.html\\n@url: https://www.google.com/search?q=python+pandas+melt+images&rlz=1C1CHBF_enIN872IN872&source=lnms&tbm=isch&sa=X&ved=2ahUKEwir3cKHoJHtAhUlzDgGHUDICG4Q_AUoAXoECA8QAw&biw=1139&bih=505#imgrc=gQaKKED16JmiQM\\n@url: https://medium.com/@durgaswaroop/reshaping-pandas-dataframes-melt-and-unmelt-9f57518c7738\\n'"
      ]
     },
     "execution_count": 1,
     "metadata": {},
     "output_type": "execute_result"
    }
   ],
   "source": [
    "\"\"\"\n",
    "@filename: DataFrame-Melt&explode\n",
    "@author: Waisullah yousofi\n",
    "@url: https://pandas.pydata.org/pandas-docs/stable/reference/api/pandas.melt.html\n",
    "@url: https://www.google.com/search?q=python+pandas+melt+images&rlz=1C1CHBF_enIN872IN872&source=lnms&tbm=isch&sa=X&ved=2ahUKEwir3cKHoJHtAhUlzDgGHUDICG4Q_AUoAXoECA8QAw&biw=1139&bih=505#imgrc=gQaKKED16JmiQM\n",
    "@url: https://medium.com/@durgaswaroop/reshaping-pandas-dataframes-melt-and-unmelt-9f57518c7738\n",
    "\"\"\""
   ]
  },
  {
   "cell_type": "code",
   "execution_count": 2,
   "metadata": {},
   "outputs": [],
   "source": [
    "import pandas as pd\n",
    "import numpy as np"
   ]
  },
  {
   "cell_type": "code",
   "execution_count": 3,
   "metadata": {},
   "outputs": [],
   "source": [
    "df = pd.DataFrame(data = {\n",
    "    'Day' : ['MON', 'TUE', 'WED', 'THU', 'FRI'], \n",
    "    'Google' : [1129,1132,1134,1152,1152], \n",
    "    'Apple' : [191,192,190,190,188] \n",
    "})"
   ]
  },
  {
   "cell_type": "markdown",
   "metadata": {},
   "source": [
    "print df"
   ]
  },
  {
   "cell_type": "code",
   "execution_count": 4,
   "metadata": {},
   "outputs": [
    {
     "name": "stdout",
     "output_type": "stream",
     "text": [
      "   Day  Google  Apple\n",
      "0  MON    1129    191\n",
      "1  TUE    1132    192\n",
      "2  WED    1134    190\n",
      "3  THU    1152    190\n",
      "4  FRI    1152    188\n"
     ]
    }
   ],
   "source": [
    "print(df)"
   ]
  },
  {
   "cell_type": "markdown",
   "metadata": {},
   "source": [
    "info df"
   ]
  },
  {
   "cell_type": "code",
   "execution_count": 5,
   "metadata": {},
   "outputs": [
    {
     "name": "stdout",
     "output_type": "stream",
     "text": [
      "<class 'pandas.core.frame.DataFrame'>\n",
      "RangeIndex: 5 entries, 0 to 4\n",
      "Data columns (total 3 columns):\n",
      " #   Column  Non-Null Count  Dtype \n",
      "---  ------  --------------  ----- \n",
      " 0   Day     5 non-null      object\n",
      " 1   Google  5 non-null      int64 \n",
      " 2   Apple   5 non-null      int64 \n",
      "dtypes: int64(2), object(1)\n",
      "memory usage: 248.0+ bytes\n",
      "None\n"
     ]
    }
   ],
   "source": [
    "print(df.info())"
   ]
  },
  {
   "cell_type": "markdown",
   "metadata": {},
   "source": [
    "melt"
   ]
  },
  {
   "cell_type": "code",
   "execution_count": 6,
   "metadata": {},
   "outputs": [],
   "source": [
    "dfr = df.melt(id_vars=['Day'])"
   ]
  },
  {
   "cell_type": "markdown",
   "metadata": {},
   "source": [
    "print dfr"
   ]
  },
  {
   "cell_type": "code",
   "execution_count": 7,
   "metadata": {},
   "outputs": [
    {
     "name": "stdout",
     "output_type": "stream",
     "text": [
      "   Day variable  value\n",
      "0  MON   Google   1129\n",
      "1  TUE   Google   1132\n",
      "2  WED   Google   1134\n",
      "3  THU   Google   1152\n",
      "4  FRI   Google   1152\n",
      "5  MON    Apple    191\n",
      "6  TUE    Apple    192\n",
      "7  WED    Apple    190\n",
      "8  THU    Apple    190\n",
      "9  FRI    Apple    188\n"
     ]
    }
   ],
   "source": [
    "print(dfr)"
   ]
  },
  {
   "cell_type": "markdown",
   "metadata": {},
   "source": [
    "#########################################################"
   ]
  },
  {
   "cell_type": "markdown",
   "metadata": {},
   "source": [
    "create wide dataframe"
   ]
  },
  {
   "cell_type": "code",
   "execution_count": 8,
   "metadata": {},
   "outputs": [],
   "source": [
    "df = pd.DataFrame(\n",
    "  {\"college\":  [\"RJC\", \"SEC\", \"RJC\", \"SEC\"],\n",
    "   \"student\": [\"Kavita\", \"Zeenat\", \"Minal\", \"Soumya\"],\n",
    "   \"english\": [10, 100, 1000, 10000],  # eng grades\n",
    "   \"math\":    [20, 200, 2000, 20000],  # math grades\n",
    "   \"physics\": [30, 300, 3000, 30000]   # physics grades\n",
    "  }\n",
    ")"
   ]
  },
  {
   "cell_type": "markdown",
   "metadata": {},
   "source": [
    "print df"
   ]
  },
  {
   "cell_type": "code",
   "execution_count": 9,
   "metadata": {},
   "outputs": [
    {
     "name": "stdout",
     "output_type": "stream",
     "text": [
      "  college student  english   math  physics\n",
      "0     RJC  Kavita       10     20       30\n",
      "1     SEC  Zeenat      100    200      300\n",
      "2     RJC   Minal     1000   2000     3000\n",
      "3     SEC  Soumya    10000  20000    30000\n"
     ]
    }
   ],
   "source": [
    "print(df)"
   ]
  },
  {
   "cell_type": "markdown",
   "metadata": {},
   "source": [
    "info df"
   ]
  },
  {
   "cell_type": "code",
   "execution_count": 10,
   "metadata": {},
   "outputs": [
    {
     "name": "stdout",
     "output_type": "stream",
     "text": [
      "<class 'pandas.core.frame.DataFrame'>\n",
      "RangeIndex: 4 entries, 0 to 3\n",
      "Data columns (total 5 columns):\n",
      " #   Column   Non-Null Count  Dtype \n",
      "---  ------   --------------  ----- \n",
      " 0   college  4 non-null      object\n",
      " 1   student  4 non-null      object\n",
      " 2   english  4 non-null      int64 \n",
      " 3   math     4 non-null      int64 \n",
      " 4   physics  4 non-null      int64 \n",
      "dtypes: int64(3), object(2)\n",
      "memory usage: 288.0+ bytes\n",
      "None\n"
     ]
    }
   ],
   "source": [
    "print(df.info())"
   ]
  },
  {
   "cell_type": "markdown",
   "metadata": {},
   "source": [
    "melt"
   ]
  },
  {
   "cell_type": "code",
   "execution_count": 11,
   "metadata": {},
   "outputs": [],
   "source": [
    "dfr = df.melt(id_vars=['college','student'])"
   ]
  },
  {
   "cell_type": "markdown",
   "metadata": {},
   "source": [
    "print dfr"
   ]
  },
  {
   "cell_type": "code",
   "execution_count": 12,
   "metadata": {},
   "outputs": [
    {
     "name": "stdout",
     "output_type": "stream",
     "text": [
      "   college student variable  value\n",
      "0      RJC  Kavita  english     10\n",
      "1      SEC  Zeenat  english    100\n",
      "2      RJC   Minal  english   1000\n",
      "3      SEC  Soumya  english  10000\n",
      "4      RJC  Kavita     math     20\n",
      "5      SEC  Zeenat     math    200\n",
      "6      RJC   Minal     math   2000\n",
      "7      SEC  Soumya     math  20000\n",
      "8      RJC  Kavita  physics     30\n",
      "9      SEC  Zeenat  physics    300\n",
      "10     RJC   Minal  physics   3000\n",
      "11     SEC  Soumya  physics  30000\n"
     ]
    }
   ],
   "source": [
    "print(dfr)"
   ]
  },
  {
   "cell_type": "markdown",
   "metadata": {},
   "source": [
    "#########################################################"
   ]
  },
  {
   "cell_type": "markdown",
   "metadata": {},
   "source": [
    "read data from csv and load data in a dataframe"
   ]
  },
  {
   "cell_type": "code",
   "execution_count": 15,
   "metadata": {},
   "outputs": [],
   "source": [
    "df = pd.read_csv('..\\dataset/iip-data.csv')"
   ]
  },
  {
   "cell_type": "markdown",
   "metadata": {},
   "source": [
    "print df"
   ]
  },
  {
   "cell_type": "code",
   "execution_count": 16,
   "metadata": {},
   "outputs": [
    {
     "name": "stdout",
     "output_type": "stream",
     "text": [
      "              Item Description   Jul-2015   Aug-2015   Sep-2015   Oct-2015\n",
      "0                  Basic Goods   5.159705   5.137615   6.223818   2.638037\n",
      "1                 Basic metals   6.812879  10.898662   9.526044   7.349455\n",
      "2                Capital Goods  10.562310  -3.620244   2.192982   5.531915\n",
      "3            Consumer Durables  11.362608  15.998112  -3.920822   1.292091\n",
      "4               Consumer Goods   1.284297   6.590773  -2.134647   2.754821\n",
      "5        Consumer Non-durables  -4.614370   1.342282  -0.860927   3.745072\n",
      "6         Electrical Machinery  20.932325 -10.016556   2.882682  13.142973\n",
      "7                  Electricity   3.536453   1.321586   6.035889  -0.505334\n",
      "8                General Index   4.219653   3.779070   2.509983   3.011002\n",
      "9           Intermediate Goods   1.544402   0.793651   1.286174   2.338009\n",
      "10               Manufacturing   4.665203   4.608551   2.016349   3.914002\n",
      "11          Mining & Quarrying   1.290878  -0.327600   2.314445  -0.570962\n",
      "12              Motor Vehicles   7.929515   8.593750   4.213865   6.773455\n",
      "13      Publishing & Printing   -9.465479 -11.415525  -9.230769   6.088993\n",
      "14  Rubber & Plastics Products  -4.253112   0.104275   1.469098   5.604396\n",
      "15                    Textiles  -0.584416   1.126574  -1.556420   4.663558\n",
      "16            Tobacco Products  -2.049622   8.679245  -7.717303 -25.796506\n",
      "17             Wearing Apparel  21.722609  27.588467  15.780142   9.925293\n",
      "18     Wood & Products Of Wood  10.433071  20.973783  10.351827   6.258890\n"
     ]
    }
   ],
   "source": [
    "print(df)"
   ]
  },
  {
   "cell_type": "markdown",
   "metadata": {},
   "source": [
    "info df"
   ]
  },
  {
   "cell_type": "code",
   "execution_count": 17,
   "metadata": {},
   "outputs": [
    {
     "name": "stdout",
     "output_type": "stream",
     "text": [
      "<class 'pandas.core.frame.DataFrame'>\n",
      "RangeIndex: 19 entries, 0 to 18\n",
      "Data columns (total 5 columns):\n",
      " #   Column            Non-Null Count  Dtype  \n",
      "---  ------            --------------  -----  \n",
      " 0   Item Description  19 non-null     object \n",
      " 1   Jul-2015          19 non-null     float64\n",
      " 2   Aug-2015          19 non-null     float64\n",
      " 3   Sep-2015          19 non-null     float64\n",
      " 4   Oct-2015          19 non-null     float64\n",
      "dtypes: float64(4), object(1)\n",
      "memory usage: 888.0+ bytes\n",
      "None\n"
     ]
    }
   ],
   "source": [
    "print(df.info())"
   ]
  },
  {
   "cell_type": "markdown",
   "metadata": {},
   "source": [
    "melt"
   ]
  },
  {
   "cell_type": "code",
   "execution_count": 18,
   "metadata": {},
   "outputs": [],
   "source": [
    "dfr = pd.melt(df, id_vars =['Item Description']) "
   ]
  },
  {
   "cell_type": "markdown",
   "metadata": {},
   "source": [
    "print dfr"
   ]
  },
  {
   "cell_type": "code",
   "execution_count": 19,
   "metadata": {},
   "outputs": [
    {
     "name": "stdout",
     "output_type": "stream",
     "text": [
      "              Item Description  variable      value\n",
      "0                  Basic Goods  Jul-2015   5.159705\n",
      "1                 Basic metals  Jul-2015   6.812879\n",
      "2                Capital Goods  Jul-2015  10.562310\n",
      "3            Consumer Durables  Jul-2015  11.362608\n",
      "4               Consumer Goods  Jul-2015   1.284297\n",
      "..                         ...       ...        ...\n",
      "71  Rubber & Plastics Products  Oct-2015   5.604396\n",
      "72                    Textiles  Oct-2015   4.663558\n",
      "73            Tobacco Products  Oct-2015 -25.796506\n",
      "74             Wearing Apparel  Oct-2015   9.925293\n",
      "75     Wood & Products Of Wood  Oct-2015   6.258890\n",
      "\n",
      "[76 rows x 3 columns]\n"
     ]
    }
   ],
   "source": [
    "print(dfr)"
   ]
  },
  {
   "cell_type": "code",
   "execution_count": null,
   "metadata": {},
   "outputs": [],
   "source": []
  }
 ],
 "metadata": {
  "kernelspec": {
   "display_name": "Python 3",
   "language": "python",
   "name": "python3"
  },
  "language_info": {
   "codemirror_mode": {
    "name": "ipython",
    "version": 3
   },
   "file_extension": ".py",
   "mimetype": "text/x-python",
   "name": "python",
   "nbconvert_exporter": "python",
   "pygments_lexer": "ipython3",
   "version": "3.8.5"
  }
 },
 "nbformat": 4,
 "nbformat_minor": 2
}
