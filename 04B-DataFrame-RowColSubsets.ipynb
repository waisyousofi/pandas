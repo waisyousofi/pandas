{
 "cells": [
  {
   "cell_type": "code",
   "execution_count": 157,
   "metadata": {},
   "outputs": [
    {
     "data": {
      "text/plain": [
       "'\\n@filename: DataFrame-RowColSubsets.py\\n@author: waisullah yousofi\\n@url: https://pandas.pydata.org/pandas-docs/stable/index.html\\n'"
      ]
     },
     "execution_count": 157,
     "metadata": {},
     "output_type": "execute_result"
    }
   ],
   "source": [
    "\"\"\"\n",
    "@filename: DataFrame-RowColSubsets.py\n",
    "@author: waisullah yousofi\n",
    "@url: https://pandas.pydata.org/pandas-docs/stable/index.html\n",
    "\"\"\""
   ]
  },
  {
   "cell_type": "markdown",
   "metadata": {},
   "source": [
    "import the pandas module"
   ]
  },
  {
   "cell_type": "code",
   "execution_count": 158,
   "metadata": {},
   "outputs": [],
   "source": [
    "import pandas as pd"
   ]
  },
  {
   "cell_type": "markdown",
   "metadata": {},
   "source": [
    "create an sample dataframe "
   ]
  },
  {
   "cell_type": "code",
   "execution_count": 159,
   "metadata": {},
   "outputs": [],
   "source": [
    "raw_data = {'regiment': ['Nighthawks', 'Nighthawks', 'Nighthawks', 'Nighthawks', 'Dragoons', 'Dragoons', 'Dragoons', 'Dragoons', 'Scouts', 'Scouts', 'Scouts', 'Scouts'],\n",
    "            'company': ['1st', '1st', '2nd', '2nd', '1st', '1st', '2nd', '2nd','1st', '1st', '2nd', '2nd'],\n",
    "            'deaths': [523, 52, 25, 616, 43, 234, 523, 62, 62, 73, 37, 35],\n",
    "            'battles': [5, 42, 2, 2, 4, 7, 8, 3, 4, 7, 8, 9],\n",
    "            'size': [1045, 957, 1099, 1400, 1592, 1006, 987, 849, 973, 1005, 1099, 1523],\n",
    "            'origin': ['Arizona', 'California', 'Texas', 'Florida', 'Arizona', 'Arizona', 'Alaska', 'Washington', 'Oregon', 'Wyoming', 'Louisana', 'Georgia']}"
   ]
  },
  {
   "cell_type": "markdown",
   "metadata": {},
   "source": [
    "create dataframe"
   ]
  },
  {
   "cell_type": "code",
   "execution_count": 160,
   "metadata": {},
   "outputs": [
    {
     "name": "stdout",
     "output_type": "stream",
     "text": [
      "      regiment company  deaths  battles  size      origin\n",
      "0   Nighthawks     1st     523        5  1045     Arizona\n",
      "1   Nighthawks     1st      52       42   957  California\n",
      "2   Nighthawks     2nd      25        2  1099       Texas\n",
      "3   Nighthawks     2nd     616        2  1400     Florida\n",
      "4     Dragoons     1st      43        4  1592     Arizona\n",
      "5     Dragoons     1st     234        7  1006     Arizona\n",
      "6     Dragoons     2nd     523        8   987      Alaska\n",
      "7     Dragoons     2nd      62        3   849  Washington\n",
      "8       Scouts     1st      62        4   973      Oregon\n",
      "9       Scouts     1st      73        7  1005     Wyoming\n",
      "10      Scouts     2nd      37        8  1099    Louisana\n",
      "11      Scouts     2nd      35        9  1523     Georgia\n"
     ]
    }
   ],
   "source": [
    "df = pd.DataFrame(raw_data, columns = ['regiment', 'company', 'deaths', 'battles', 'size', 'origin'])\n",
    "print(df) "
   ]
  },
  {
   "cell_type": "markdown",
   "metadata": {},
   "source": [
    "create index"
   ]
  },
  {
   "cell_type": "code",
   "execution_count": 202,
   "metadata": {},
   "outputs": [
    {
     "name": "stdout",
     "output_type": "stream",
     "text": [
      "              regiment company  deaths  battles  size\n",
      "origin                                               \n",
      "Arizona     Nighthawks     1st     523        5  1045\n",
      "California  Nighthawks     1st      52       42   957\n",
      "Texas       Nighthawks     2nd      25        2  1099\n",
      "Florida     Nighthawks     2nd     616        2  1400\n",
      "Arizona       Dragoons     1st      43        4  1592\n",
      "Arizona       Dragoons     1st     234        7  1006\n",
      "Alaska        Dragoons     2nd     523        8   987\n",
      "Washington    Dragoons     2nd      62        3   849\n",
      "Oregon          Scouts     1st      62        4   973\n",
      "Wyoming         Scouts     1st      73        7  1005\n",
      "Louisana        Scouts     2nd      37        8  1099\n",
      "Georgia         Scouts     2nd      35        9  1523\n"
     ]
    }
   ],
   "source": [
    "df = df.set_index('origin')\n",
    "print(df) "
   ]
  },
  {
   "cell_type": "markdown",
   "metadata": {},
   "source": [
    "select a column"
   ]
  },
  {
   "cell_type": "code",
   "execution_count": 203,
   "metadata": {},
   "outputs": [
    {
     "name": "stdout",
     "output_type": "stream",
     "text": [
      "origin\n",
      "Arizona       1045\n",
      "California     957\n",
      "Texas         1099\n",
      "Florida       1400\n",
      "Arizona       1592\n",
      "Arizona       1006\n",
      "Alaska         987\n",
      "Washington     849\n",
      "Oregon         973\n",
      "Wyoming       1005\n",
      "Louisana      1099\n",
      "Georgia       1523\n",
      "Name: size, dtype: int64\n",
      "<class 'pandas.core.series.Series'>\n"
     ]
    }
   ],
   "source": [
    "dfn = df['size']\n",
    "print(dfn)\n",
    "print(type(dfn))"
   ]
  },
  {
   "cell_type": "code",
   "execution_count": 204,
   "metadata": {},
   "outputs": [
    {
     "name": "stdout",
     "output_type": "stream",
     "text": [
      "            size\n",
      "origin          \n",
      "Arizona     1045\n",
      "California   957\n",
      "Texas       1099\n",
      "Florida     1400\n",
      "Arizona     1592\n",
      "Arizona     1006\n",
      "Alaska       987\n",
      "Washington   849\n",
      "Oregon       973\n",
      "Wyoming     1005\n",
      "Louisana    1099\n",
      "Georgia     1523\n",
      "<class 'pandas.core.frame.DataFrame'>\n"
     ]
    }
   ],
   "source": [
    "dfp = df[['size']]\n",
    "print(dfp)\n",
    "print(type(dfp))"
   ]
  },
  {
   "cell_type": "markdown",
   "metadata": {},
   "source": [
    "select two or more columns"
   ]
  },
  {
   "cell_type": "code",
   "execution_count": 205,
   "metadata": {},
   "outputs": [
    {
     "name": "stdout",
     "output_type": "stream",
     "text": [
      "            size  battles\n",
      "origin                   \n",
      "Arizona     1045        5\n",
      "California   957       42\n",
      "Texas       1099        2\n",
      "Florida     1400        2\n",
      "Arizona     1592        4\n",
      "Arizona     1006        7\n",
      "Alaska       987        8\n",
      "Washington   849        3\n",
      "Oregon       973        4\n",
      "Wyoming     1005        7\n",
      "Louisana    1099        8\n",
      "Georgia     1523        9\n",
      "<class 'pandas.core.frame.DataFrame'>\n",
      "            size  battles  deaths\n",
      "origin                           \n",
      "Arizona     1045        5     523\n",
      "California   957       42      52\n",
      "Texas       1099        2      25\n",
      "Florida     1400        2     616\n",
      "Arizona     1592        4      43\n",
      "Arizona     1006        7     234\n",
      "Alaska       987        8     523\n",
      "Washington   849        3      62\n",
      "Oregon       973        4      62\n",
      "Wyoming     1005        7      73\n",
      "Louisana    1099        8      37\n",
      "Georgia     1523        9      35\n",
      "<class 'pandas.core.frame.DataFrame'>\n"
     ]
    }
   ],
   "source": [
    "dfp = df[['size', 'battles']]\n",
    "print(dfp)\n",
    "print(type(dfp))\n",
    "dfp = df[['size', 'battles','deaths']]\n",
    "print(dfp)\n",
    "print(type(dfp))"
   ]
  },
  {
   "cell_type": "markdown",
   "metadata": {},
   "source": [
    "show index item <br>\n",
    "select every index item up to 3"
   ]
  },
  {
   "cell_type": "code",
   "execution_count": 206,
   "metadata": {},
   "outputs": [
    {
     "name": "stdout",
     "output_type": "stream",
     "text": [
      "              regiment company  deaths  battles  size\n",
      "origin                                               \n",
      "Arizona     Nighthawks     1st     523        5  1045\n",
      "California  Nighthawks     1st      52       42   957\n",
      "Texas       Nighthawks     2nd      25        2  1099\n",
      "Florida     Nighthawks     2nd     616        2  1400\n",
      "Arizona       Dragoons     1st      43        4  1592\n",
      "Arizona       Dragoons     1st     234        7  1006\n",
      "Alaska        Dragoons     2nd     523        8   987\n",
      "Washington    Dragoons     2nd      62        3   849\n",
      "Oregon          Scouts     1st      62        4   973\n",
      "Wyoming         Scouts     1st      73        7  1005\n",
      "Louisana        Scouts     2nd      37        8  1099\n",
      "Georgia         Scouts     2nd      35        9  1523\n",
      "Index(['Arizona', 'California', 'Texas', 'Florida', 'Arizona', 'Arizona',\n",
      "       'Alaska'],\n",
      "      dtype='object', name='origin')\n",
      "Arizona\n",
      "Index(['Arizona', 'Arizona', 'Alaska', 'Washington', 'Oregon', 'Wyoming',\n",
      "       'Louisana', 'Georgia'],\n",
      "      dtype='object', name='origin')\n",
      "Index(['Arizona', 'Arizona', 'Alaska', 'Washington', 'Oregon', 'Wyoming',\n",
      "       'Louisana'],\n",
      "      dtype='object', name='origin')\n",
      "Index(['Arizona', 'California', 'Texas', 'Florida', 'Arizona', 'Arizona',\n",
      "       'Alaska', 'Washington', 'Oregon', 'Wyoming', 'Louisana'],\n",
      "      dtype='object', name='origin')\n",
      "Georgia\n"
     ]
    }
   ],
   "source": [
    "print(df)\n",
    "print(df.index[0:7])\n",
    "print(df.index[4])\n",
    "print(df.index[4:])\n",
    "print(df.index[4:-1])\n",
    "print(df.index[0:11])\n",
    "print(df.index[11])"
   ]
  },
  {
   "cell_type": "markdown",
   "metadata": {},
   "source": [
    "remove index"
   ]
  },
  {
   "cell_type": "code",
   "execution_count": 207,
   "metadata": {},
   "outputs": [
    {
     "name": "stdout",
     "output_type": "stream",
     "text": [
      "        origin    regiment company  deaths  battles  size\n",
      "0      Arizona  Nighthawks     1st     523        5  1045\n",
      "1   California  Nighthawks     1st      52       42   957\n",
      "2        Texas  Nighthawks     2nd      25        2  1099\n",
      "3      Florida  Nighthawks     2nd     616        2  1400\n",
      "4      Arizona    Dragoons     1st      43        4  1592\n",
      "5      Arizona    Dragoons     1st     234        7  1006\n",
      "6       Alaska    Dragoons     2nd     523        8   987\n",
      "7   Washington    Dragoons     2nd      62        3   849\n",
      "8       Oregon      Scouts     1st      62        4   973\n",
      "9      Wyoming      Scouts     1st      73        7  1005\n",
      "10    Louisana      Scouts     2nd      37        8  1099\n",
      "11     Georgia      Scouts     2nd      35        9  1523\n",
      "<class 'pandas.core.frame.DataFrame'>\n"
     ]
    }
   ],
   "source": [
    "df = df.reset_index() \n",
    "#or\n",
    "#df.reset_index(inplace = True) \n",
    "print(df)\n",
    "print(type(df))"
   ]
  },
  {
   "cell_type": "markdown",
   "metadata": {},
   "source": [
    "iloc<br>\n",
    "iloc performs integer-based access to the index, purely by position: <br>\n",
    "that is, if you think of the of the DataFrame as a list of values or rows<br>\n",
    "iloc does normal 0-based list access."
   ]
  },
  {
   "cell_type": "markdown",
   "metadata": {},
   "source": [
    "select rows by row number<br>\n",
    "select every row up to 1"
   ]
  },
  {
   "cell_type": "code",
   "execution_count": 208,
   "metadata": {},
   "outputs": [
    {
     "name": "stdout",
     "output_type": "stream",
     "text": [
      "        origin    regiment company  deaths  battles  size\n",
      "0      Arizona  Nighthawks     1st     523        5  1045\n",
      "1   California  Nighthawks     1st      52       42   957\n",
      "2        Texas  Nighthawks     2nd      25        2  1099\n",
      "3      Florida  Nighthawks     2nd     616        2  1400\n",
      "4      Arizona    Dragoons     1st      43        4  1592\n",
      "5      Arizona    Dragoons     1st     234        7  1006\n",
      "6       Alaska    Dragoons     2nd     523        8   987\n",
      "7   Washington    Dragoons     2nd      62        3   849\n",
      "8       Oregon      Scouts     1st      62        4   973\n",
      "9      Wyoming      Scouts     1st      73        7  1005\n",
      "10    Louisana      Scouts     2nd      37        8  1099\n",
      "11     Georgia      Scouts     2nd      35        9  1523\n",
      "       origin    regiment company  deaths  battles  size\n",
      "0     Arizona  Nighthawks     1st     523        5  1045\n",
      "1  California  Nighthawks     1st      52       42   957\n",
      "<class 'pandas.core.frame.DataFrame'>\n"
     ]
    }
   ],
   "source": [
    "print(df)\n",
    "dft = df.iloc[:2]\n",
    "print(dft)\n",
    "print(type(dft))"
   ]
  },
  {
   "cell_type": "markdown",
   "metadata": {},
   "source": [
    "select rows by row number<br>\n",
    "select every row up to 1"
   ]
  },
  {
   "cell_type": "code",
   "execution_count": 209,
   "metadata": {},
   "outputs": [
    {
     "name": "stdout",
     "output_type": "stream",
     "text": [
      "        origin    regiment company  deaths  battles  size\n",
      "0      Arizona  Nighthawks     1st     523        5  1045\n",
      "1   California  Nighthawks     1st      52       42   957\n",
      "2        Texas  Nighthawks     2nd      25        2  1099\n",
      "3      Florida  Nighthawks     2nd     616        2  1400\n",
      "4      Arizona    Dragoons     1st      43        4  1592\n",
      "5      Arizona    Dragoons     1st     234        7  1006\n",
      "6       Alaska    Dragoons     2nd     523        8   987\n",
      "7   Washington    Dragoons     2nd      62        3   849\n",
      "8       Oregon      Scouts     1st      62        4   973\n",
      "9      Wyoming      Scouts     1st      73        7  1005\n",
      "10    Louisana      Scouts     2nd      37        8  1099\n",
      "11     Georgia      Scouts     2nd      35        9  1523\n",
      "       origin    regiment company  deaths  battles  size\n",
      "0     Arizona  Nighthawks     1st     523        5  1045\n",
      "1  California  Nighthawks     1st      52       42   957\n",
      "<class 'pandas.core.frame.DataFrame'>\n"
     ]
    }
   ],
   "source": [
    "print(df)\n",
    "dft = df.iloc[0:2]\n",
    "print(dft)\n",
    "print(type(dft))"
   ]
  },
  {
   "cell_type": "markdown",
   "metadata": {},
   "source": [
    "select the second df.iloc[1:2]"
   ]
  },
  {
   "cell_type": "code",
   "execution_count": 210,
   "metadata": {},
   "outputs": [
    {
     "name": "stdout",
     "output_type": "stream",
     "text": [
      "        origin    regiment company  deaths  battles  size\n",
      "0      Arizona  Nighthawks     1st     523        5  1045\n",
      "1   California  Nighthawks     1st      52       42   957\n",
      "2        Texas  Nighthawks     2nd      25        2  1099\n",
      "3      Florida  Nighthawks     2nd     616        2  1400\n",
      "4      Arizona    Dragoons     1st      43        4  1592\n",
      "5      Arizona    Dragoons     1st     234        7  1006\n",
      "6       Alaska    Dragoons     2nd     523        8   987\n",
      "7   Washington    Dragoons     2nd      62        3   849\n",
      "8       Oregon      Scouts     1st      62        4   973\n",
      "9      Wyoming      Scouts     1st      73        7  1005\n",
      "10    Louisana      Scouts     2nd      37        8  1099\n",
      "11     Georgia      Scouts     2nd      35        9  1523\n",
      "       origin    regiment company  deaths  battles  size\n",
      "1  California  Nighthawks     1st      52       42   957\n",
      "<class 'pandas.core.frame.DataFrame'>\n"
     ]
    }
   ],
   "source": [
    "print(df)\n",
    "dft = df.iloc[1:2]\n",
    "print(dft)\n",
    "print(type(dft))"
   ]
  },
  {
   "cell_type": "markdown",
   "metadata": {},
   "source": [
    "select every row after the third row"
   ]
  },
  {
   "cell_type": "code",
   "execution_count": 211,
   "metadata": {},
   "outputs": [
    {
     "name": "stdout",
     "output_type": "stream",
     "text": [
      "        origin    regiment company  deaths  battles  size\n",
      "0      Arizona  Nighthawks     1st     523        5  1045\n",
      "1   California  Nighthawks     1st      52       42   957\n",
      "2        Texas  Nighthawks     2nd      25        2  1099\n",
      "3      Florida  Nighthawks     2nd     616        2  1400\n",
      "4      Arizona    Dragoons     1st      43        4  1592\n",
      "5      Arizona    Dragoons     1st     234        7  1006\n",
      "6       Alaska    Dragoons     2nd     523        8   987\n",
      "7   Washington    Dragoons     2nd      62        3   849\n",
      "8       Oregon      Scouts     1st      62        4   973\n",
      "9      Wyoming      Scouts     1st      73        7  1005\n",
      "10    Louisana      Scouts     2nd      37        8  1099\n",
      "11     Georgia      Scouts     2nd      35        9  1523\n",
      "        origin    regiment company  deaths  battles  size\n",
      "2        Texas  Nighthawks     2nd      25        2  1099\n",
      "3      Florida  Nighthawks     2nd     616        2  1400\n",
      "4      Arizona    Dragoons     1st      43        4  1592\n",
      "5      Arizona    Dragoons     1st     234        7  1006\n",
      "6       Alaska    Dragoons     2nd     523        8   987\n",
      "7   Washington    Dragoons     2nd      62        3   849\n",
      "8       Oregon      Scouts     1st      62        4   973\n",
      "9      Wyoming      Scouts     1st      73        7  1005\n",
      "10    Louisana      Scouts     2nd      37        8  1099\n",
      "11     Georgia      Scouts     2nd      35        9  1523\n",
      "<class 'pandas.core.frame.DataFrame'>\n"
     ]
    }
   ],
   "source": [
    "print(df)\n",
    "dft = df.iloc[2:]\n",
    "print(dft)\n",
    "print(type(dft))"
   ]
  },
  {
   "cell_type": "code",
   "execution_count": 212,
   "metadata": {},
   "outputs": [
    {
     "name": "stdout",
     "output_type": "stream",
     "text": [
      "        origin    regiment company  deaths  battles  size\n",
      "0      Arizona  Nighthawks     1st     523        5  1045\n",
      "1   California  Nighthawks     1st      52       42   957\n",
      "2        Texas  Nighthawks     2nd      25        2  1099\n",
      "3      Florida  Nighthawks     2nd     616        2  1400\n",
      "4      Arizona    Dragoons     1st      43        4  1592\n",
      "5      Arizona    Dragoons     1st     234        7  1006\n",
      "6       Alaska    Dragoons     2nd     523        8   987\n",
      "7   Washington    Dragoons     2nd      62        3   849\n",
      "8       Oregon      Scouts     1st      62        4   973\n",
      "9      Wyoming      Scouts     1st      73        7  1005\n",
      "10    Louisana      Scouts     2nd      37        8  1099\n",
      "11     Georgia      Scouts     2nd      35        9  1523\n",
      "        origin    regiment company  deaths  battles  size\n",
      "2        Texas  Nighthawks     2nd      25        2  1099\n",
      "3      Florida  Nighthawks     2nd     616        2  1400\n",
      "4      Arizona    Dragoons     1st      43        4  1592\n",
      "5      Arizona    Dragoons     1st     234        7  1006\n",
      "6       Alaska    Dragoons     2nd     523        8   987\n",
      "7   Washington    Dragoons     2nd      62        3   849\n",
      "8       Oregon      Scouts     1st      62        4   973\n",
      "9      Wyoming      Scouts     1st      73        7  1005\n",
      "10    Louisana      Scouts     2nd      37        8  1099\n",
      "<class 'pandas.core.frame.DataFrame'>\n"
     ]
    }
   ],
   "source": [
    "print(df)\n",
    "dft = df.iloc[2:-1]\n",
    "print(dft)\n",
    "print(type(dft))"
   ]
  },
  {
   "cell_type": "markdown",
   "metadata": {},
   "source": [
    "select columns by column number<br>\n",
    "select the first 2 columns"
   ]
  },
  {
   "cell_type": "code",
   "execution_count": 221,
   "metadata": {},
   "outputs": [
    {
     "name": "stdout",
     "output_type": "stream",
     "text": [
      "              regiment company  deaths  battles  size\n",
      "origin                                               \n",
      "Arizona     Nighthawks     1st     523        5  1045\n",
      "California  Nighthawks     1st      52       42   957\n",
      "Texas       Nighthawks     2nd      25        2  1099\n",
      "Florida     Nighthawks     2nd     616        2  1400\n",
      "Arizona       Dragoons     1st      43        4  1592\n",
      "Arizona       Dragoons     1st     234        7  1006\n",
      "Alaska        Dragoons     2nd     523        8   987\n",
      "Washington    Dragoons     2nd      62        3   849\n",
      "Oregon          Scouts     1st      62        4   973\n",
      "Wyoming         Scouts     1st      73        7  1005\n",
      "Louisana        Scouts     2nd      37        8  1099\n",
      "Georgia         Scouts     2nd      35        9  1523\n",
      "              regiment company  deaths  battles  size\n",
      "origin                                               \n",
      "Arizona     Nighthawks     1st     523        5  1045\n",
      "California  Nighthawks     1st      52       42   957\n",
      "Texas       Nighthawks     2nd      25        2  1099\n",
      "Florida     Nighthawks     2nd     616        2  1400\n",
      "Arizona       Dragoons     1st      43        4  1592\n",
      "Arizona       Dragoons     1st     234        7  1006\n",
      "Alaska        Dragoons     2nd     523        8   987\n",
      "Washington    Dragoons     2nd      62        3   849\n",
      "Oregon          Scouts     1st      62        4   973\n",
      "Wyoming         Scouts     1st      73        7  1005\n",
      "Louisana        Scouts     2nd      37        8  1099\n",
      "Georgia         Scouts     2nd      35        9  1523\n",
      "<class 'pandas.core.frame.DataFrame'>\n"
     ]
    }
   ],
   "source": [
    "print(df)\n",
    "dft = df.iloc[:,:]\n",
    "print(dft)\n",
    "print(type(dft))"
   ]
  },
  {
   "cell_type": "markdown",
   "metadata": {},
   "source": [
    "very important - why?<br>\n",
    "result is not dataframe but a basic object like int, float, string, bool "
   ]
  },
  {
   "cell_type": "code",
   "execution_count": 222,
   "metadata": {},
   "outputs": [
    {
     "name": "stdout",
     "output_type": "stream",
     "text": [
      "              regiment company  deaths  battles  size\n",
      "origin                                               \n",
      "Arizona     Nighthawks     1st     523        5  1045\n",
      "California  Nighthawks     1st      52       42   957\n",
      "Texas       Nighthawks     2nd      25        2  1099\n",
      "Florida     Nighthawks     2nd     616        2  1400\n",
      "Arizona       Dragoons     1st      43        4  1592\n",
      "Arizona       Dragoons     1st     234        7  1006\n",
      "Alaska        Dragoons     2nd     523        8   987\n",
      "Washington    Dragoons     2nd      62        3   849\n",
      "Oregon          Scouts     1st      62        4   973\n",
      "Wyoming         Scouts     1st      73        7  1005\n",
      "Louisana        Scouts     2nd      37        8  1099\n",
      "Georgia         Scouts     2nd      35        9  1523\n",
      "25\n",
      "<class 'numpy.int64'>\n"
     ]
    }
   ],
   "source": [
    "print(df)\n",
    "tmp = df.iloc[2,2]\n",
    "print(tmp)\n",
    "print(type(tmp))"
   ]
  },
  {
   "cell_type": "markdown",
   "metadata": {},
   "source": [
    "very important - why?"
   ]
  },
  {
   "cell_type": "code",
   "execution_count": 223,
   "metadata": {},
   "outputs": [
    {
     "name": "stdout",
     "output_type": "stream",
     "text": [
      "              regiment company  deaths  battles  size\n",
      "origin                                               \n",
      "Arizona     Nighthawks     1st     523        5  1045\n",
      "California  Nighthawks     1st      52       42   957\n",
      "Texas       Nighthawks     2nd      25        2  1099\n",
      "Florida     Nighthawks     2nd     616        2  1400\n",
      "Arizona       Dragoons     1st      43        4  1592\n",
      "Arizona       Dragoons     1st     234        7  1006\n",
      "Alaska        Dragoons     2nd     523        8   987\n",
      "Washington    Dragoons     2nd      62        3   849\n",
      "Oregon          Scouts     1st      62        4   973\n",
      "Wyoming         Scouts     1st      73        7  1005\n",
      "Louisana        Scouts     2nd      37        8  1099\n",
      "Georgia         Scouts     2nd      35        9  1523\n",
      "        deaths\n",
      "origin        \n",
      "Texas       25\n",
      "<class 'pandas.core.frame.DataFrame'>\n"
     ]
    }
   ],
   "source": [
    "print(df)\n",
    "tmp = df.iloc[2:3,2:3]\n",
    "print(tmp)\n",
    "print(type(tmp))"
   ]
  },
  {
   "cell_type": "markdown",
   "metadata": {},
   "source": [
    "select by conditionals (boolean)<br>\n",
    "select rows where df.deaths is greater than 100"
   ]
  },
  {
   "cell_type": "code",
   "execution_count": 224,
   "metadata": {},
   "outputs": [
    {
     "name": "stdout",
     "output_type": "stream",
     "text": [
      "              regiment company  deaths  battles  size\n",
      "origin                                               \n",
      "Arizona     Nighthawks     1st     523        5  1045\n",
      "California  Nighthawks     1st      52       42   957\n",
      "Texas       Nighthawks     2nd      25        2  1099\n",
      "Florida     Nighthawks     2nd     616        2  1400\n",
      "Arizona       Dragoons     1st      43        4  1592\n",
      "Arizona       Dragoons     1st     234        7  1006\n",
      "Alaska        Dragoons     2nd     523        8   987\n",
      "Washington    Dragoons     2nd      62        3   849\n",
      "Oregon          Scouts     1st      62        4   973\n",
      "Wyoming         Scouts     1st      73        7  1005\n",
      "Louisana        Scouts     2nd      37        8  1099\n",
      "Georgia         Scouts     2nd      35        9  1523\n",
      "           regiment company  deaths  battles  size\n",
      "origin                                            \n",
      "Arizona  Nighthawks     1st     523        5  1045\n",
      "Florida  Nighthawks     2nd     616        2  1400\n",
      "Arizona    Dragoons     1st     234        7  1006\n",
      "Alaska     Dragoons     2nd     523        8   987\n",
      "<class 'pandas.core.frame.DataFrame'>\n"
     ]
    }
   ],
   "source": [
    "print(df)\n",
    "dfp = df[   df['deaths'] > 100  ]\n",
    "print(dfp)\n",
    "print(type(dfp))"
   ]
  },
  {
   "cell_type": "code",
   "execution_count": 226,
   "metadata": {},
   "outputs": [
    {
     "name": "stdout",
     "output_type": "stream",
     "text": [
      "              regiment company  deaths  battles  size\n",
      "origin                                               \n",
      "Arizona     Nighthawks     1st     523        5  1045\n",
      "California  Nighthawks     1st      52       42   957\n",
      "Texas       Nighthawks     2nd      25        2  1099\n",
      "Florida     Nighthawks     2nd     616        2  1400\n",
      "Arizona       Dragoons     1st      43        4  1592\n",
      "Arizona       Dragoons     1st     234        7  1006\n",
      "Alaska        Dragoons     2nd     523        8   987\n",
      "Washington    Dragoons     2nd      62        3   849\n",
      "Oregon          Scouts     1st      62        4   973\n",
      "Wyoming         Scouts     1st      73        7  1005\n",
      "Louisana        Scouts     2nd      37        8  1099\n",
      "Georgia         Scouts     2nd      35        9  1523\n",
      "           regiment company  deaths  battles  size\n",
      "origin                                            \n",
      "Florida  Nighthawks     2nd     616        2  1400\n",
      "Arizona    Dragoons     1st     234        7  1006\n",
      "<class 'pandas.core.frame.DataFrame'>\n"
     ]
    }
   ],
   "source": [
    "print(df)\n",
    "dfp = df[df['deaths'] > 100].iloc[1:3,]\n",
    "print(dfp)\n",
    "print(type(dfp))"
   ]
  },
  {
   "cell_type": "code",
   "execution_count": 231,
   "metadata": {},
   "outputs": [
    {
     "data": {
      "text/plain": [
       "Index(['Arizona', 'California', 'Texas', 'Florida', 'Arizona', 'Arizona',\n",
       "       'Alaska', 'Washington', 'Oregon', 'Wyoming', 'Louisana', 'Georgia'],\n",
       "      dtype='object', name='origin')"
      ]
     },
     "execution_count": 231,
     "metadata": {},
     "output_type": "execute_result"
    }
   ],
   "source": [
    "df.index"
   ]
  },
  {
   "cell_type": "markdown",
   "metadata": {},
   "source": [
    "loc<br>\n",
    "according to the pandas documentation this is a \"Purely label-location based <br>\n",
    "indexer for selection by label\". Basically, use loc for indexes with <br>\n",
    "meaningul label values. "
   ]
  },
  {
   "cell_type": "markdown",
   "metadata": {},
   "source": [
    "select all rows by index label<br>\n",
    "select all rows with the index label \"Arizona\" "
   ]
  },
  {
   "cell_type": "code",
   "execution_count": 234,
   "metadata": {},
   "outputs": [
    {
     "name": "stdout",
     "output_type": "stream",
     "text": [
      "           regiment company  deaths  battles  size\n",
      "origin                                            \n",
      "Arizona  Nighthawks     1st     523        5  1045\n",
      "Arizona    Dragoons     1st      43        4  1592\n",
      "Arizona    Dragoons     1st     234        7  1006\n"
     ]
    }
   ],
   "source": [
    "\n",
    "print(df.loc['Arizona'])"
   ]
  },
  {
   "cell_type": "markdown",
   "metadata": {},
   "source": [
    "select data in rows named Arizona Texas"
   ]
  },
  {
   "cell_type": "code",
   "execution_count": 235,
   "metadata": {},
   "outputs": [
    {
     "name": "stdout",
     "output_type": "stream",
     "text": [
      "           regiment company  deaths  battles  size\n",
      "origin                                            \n",
      "Arizona  Nighthawks     1st     523        5  1045\n",
      "Arizona    Dragoons     1st      43        4  1592\n",
      "Arizona    Dragoons     1st     234        7  1006\n",
      "Texas    Nighthawks     2nd      25        2  1099\n",
      "<class 'pandas.core.frame.DataFrame'>\n"
     ]
    }
   ],
   "source": [
    "dft = df.loc[['Arizona', 'Texas']]\n",
    "print(dft)\n",
    "print(type(dft))"
   ]
  },
  {
   "cell_type": "markdown",
   "metadata": {},
   "source": [
    "select the third cell in the row named Arizona"
   ]
  },
  {
   "cell_type": "code",
   "execution_count": 236,
   "metadata": {},
   "outputs": [
    {
     "name": "stdout",
     "output_type": "stream",
     "text": [
      "         deaths  battles\n",
      "origin                  \n",
      "Arizona     523        5\n",
      "Arizona      43        4\n",
      "Arizona     234        7\n",
      "Texas        25        2\n",
      "<class 'pandas.core.frame.DataFrame'>\n"
     ]
    }
   ],
   "source": [
    "dft = df.loc[['Arizona', 'Texas'], ['deaths','battles']]\n",
    "print(dft)\n",
    "print(type(dft))"
   ]
  },
  {
   "cell_type": "markdown",
   "metadata": {},
   "source": [
    "select data in rows named Arizona Texas"
   ]
  },
  {
   "cell_type": "code",
   "execution_count": 237,
   "metadata": {},
   "outputs": [
    {
     "name": "stdout",
     "output_type": "stream",
     "text": [
      "62\n",
      "<class 'numpy.int64'>\n"
     ]
    }
   ],
   "source": [
    "dft = df.loc['Oregon','deaths']\n",
    "print(dft)\n",
    "print(type(dft))"
   ]
  },
  {
   "cell_type": "markdown",
   "metadata": {},
   "source": [
    "ix<br>\n",
    "ix is the combination of both .loc and .iloc. <br>\n",
    "ix supports both label (i.e. index label value) and positional access<br>\n",
    "it looks first for a label and falls back to positional access if no label <br>\n",
    "with the given value is found. It is a handy shortcut, especially if you <br>\n",
    "want to do things like access your index by label but your columns by position"
   ]
  },
  {
   "cell_type": "markdown",
   "metadata": {},
   "source": [
    "select data in rows named Arizona Texas"
   ]
  },
  {
   "cell_type": "code",
   "execution_count": 266,
   "metadata": {},
   "outputs": [
    {
     "data": {
      "text/plain": [
       "Index(['Arizona', 'California', 'Texas', 'Florida', 'Arizona', 'Arizona',\n",
       "       'Alaska', 'Washington', 'Oregon', 'Wyoming', 'Louisana', 'Georgia'],\n",
       "      dtype='object', name='origin')"
      ]
     },
     "execution_count": 266,
     "metadata": {},
     "output_type": "execute_result"
    }
   ],
   "source": [
    "df.index"
   ]
  },
  {
   "cell_type": "code",
   "execution_count": 267,
   "metadata": {},
   "outputs": [
    {
     "name": "stdout",
     "output_type": "stream",
     "text": [
      "           regiment company  deaths  battles  size\n",
      "origin                                            \n",
      "Arizona  Nighthawks     1st     523        5  1045\n",
      "Arizona    Dragoons     1st      43        4  1592\n",
      "Arizona    Dragoons     1st     234        7  1006\n",
      "Texas    Nighthawks     2nd      25        2  1099\n",
      "<class 'pandas.core.frame.DataFrame'>\n"
     ]
    }
   ],
   "source": [
    "\n",
    "dft = df.loc[['Arizona', 'Texas']]\n",
    "print(dft)\n",
    "print(type(dft))"
   ]
  },
  {
   "cell_type": "markdown",
   "metadata": {},
   "source": [
    "select the third cell in the row named Arizona"
   ]
  },
  {
   "cell_type": "code",
   "execution_count": 268,
   "metadata": {},
   "outputs": [
    {
     "name": "stdout",
     "output_type": "stream",
     "text": [
      "origin\n",
      "Arizona    523\n",
      "Arizona     43\n",
      "Arizona    234\n",
      "Name: deaths, dtype: int64\n",
      "<class 'pandas.core.series.Series'>\n"
     ]
    }
   ],
   "source": [
    "dft = df.loc['Arizona', 'deaths']\n",
    "print(dft)\n",
    "print(type(dft))"
   ]
  },
  {
   "cell_type": "code",
   "execution_count": 269,
   "metadata": {},
   "outputs": [
    {
     "name": "stdout",
     "output_type": "stream",
     "text": [
      "616\n",
      "<class 'numpy.int64'>\n"
     ]
    }
   ],
   "source": [
    "dft = df.iloc[3,2]\n",
    "print(dft)\n",
    "print(type(dft))"
   ]
  },
  {
   "cell_type": "code",
   "execution_count": 271,
   "metadata": {},
   "outputs": [
    {
     "name": "stdout",
     "output_type": "stream",
     "text": [
      "        company\n",
      "origin         \n",
      "Texas       2nd\n",
      "Florida     2nd\n",
      "<class 'pandas.core.frame.DataFrame'>\n"
     ]
    }
   ],
   "source": [
    "dft = df.iloc[2:4, 1:2]\n",
    "print(dft)\n",
    "print(type(dft))"
   ]
  },
  {
   "cell_type": "markdown",
   "metadata": {},
   "source": [
    "616"
   ]
  },
  {
   "cell_type": "code",
   "execution_count": 272,
   "metadata": {},
   "outputs": [
    {
     "name": "stdout",
     "output_type": "stream",
     "text": [
      "              regiment company  deaths  battles  size\n",
      "origin                                               \n",
      "Arizona     Nighthawks     1st     523        5  1045\n",
      "California  Nighthawks     1st      52       42   957\n",
      "Texas       Nighthawks     2nd      25        2  1099\n",
      "Florida     Nighthawks     2nd     616        2  1400\n",
      "Arizona       Dragoons     1st      43        4  1592\n",
      "Arizona       Dragoons     1st     234        7  1006\n",
      "Alaska        Dragoons     2nd     523        8   987\n",
      "Washington    Dragoons     2nd      62        3   849\n",
      "Oregon          Scouts     1st      62        4   973\n",
      "Wyoming         Scouts     1st      73        7  1005\n",
      "Louisana        Scouts     2nd      37        8  1099\n",
      "Georgia         Scouts     2nd      35        9  1523\n",
      "616\n",
      "<class 'numpy.int64'>\n"
     ]
    }
   ],
   "source": [
    "print(df)\n",
    "dft = df.iloc[3,2]\n",
    "print(dft)\n",
    "print(type(dft))"
   ]
  },
  {
   "cell_type": "markdown",
   "metadata": {},
   "source": [
    "616 as df"
   ]
  },
  {
   "cell_type": "code",
   "execution_count": 273,
   "metadata": {},
   "outputs": [
    {
     "name": "stdout",
     "output_type": "stream",
     "text": [
      "              regiment company  deaths  battles  size\n",
      "origin                                               \n",
      "Arizona     Nighthawks     1st     523        5  1045\n",
      "California  Nighthawks     1st      52       42   957\n",
      "Texas       Nighthawks     2nd      25        2  1099\n",
      "Florida     Nighthawks     2nd     616        2  1400\n",
      "Arizona       Dragoons     1st      43        4  1592\n",
      "Arizona       Dragoons     1st     234        7  1006\n",
      "Alaska        Dragoons     2nd     523        8   987\n",
      "Washington    Dragoons     2nd      62        3   849\n",
      "Oregon          Scouts     1st      62        4   973\n",
      "Wyoming         Scouts     1st      73        7  1005\n",
      "Louisana        Scouts     2nd      37        8  1099\n",
      "Georgia         Scouts     2nd      35        9  1523\n",
      "         deaths\n",
      "origin         \n",
      "Florida     616\n",
      "<class 'pandas.core.frame.DataFrame'>\n"
     ]
    }
   ],
   "source": [
    "print(df)\n",
    "dft = df.iloc[3:4,2:3]\n",
    "print(dft)\n",
    "print(type(dft))"
   ]
  },
  {
   "cell_type": "markdown",
   "metadata": {},
   "source": [
    "arizona rows"
   ]
  },
  {
   "cell_type": "code",
   "execution_count": 274,
   "metadata": {},
   "outputs": [
    {
     "name": "stdout",
     "output_type": "stream",
     "text": [
      "              regiment company  deaths  battles  size\n",
      "origin                                               \n",
      "Arizona     Nighthawks     1st     523        5  1045\n",
      "California  Nighthawks     1st      52       42   957\n",
      "Texas       Nighthawks     2nd      25        2  1099\n",
      "Florida     Nighthawks     2nd     616        2  1400\n",
      "Arizona       Dragoons     1st      43        4  1592\n",
      "Arizona       Dragoons     1st     234        7  1006\n",
      "Alaska        Dragoons     2nd     523        8   987\n",
      "Washington    Dragoons     2nd      62        3   849\n",
      "Oregon          Scouts     1st      62        4   973\n",
      "Wyoming         Scouts     1st      73        7  1005\n",
      "Louisana        Scouts     2nd      37        8  1099\n",
      "Georgia         Scouts     2nd      35        9  1523\n",
      "         regiment company  deaths  battles  size\n",
      "origin                                          \n",
      "Arizona  Dragoons     1st      43        4  1592\n",
      "Arizona  Dragoons     1st     234        7  1006\n",
      "<class 'pandas.core.frame.DataFrame'>\n"
     ]
    }
   ],
   "source": [
    "print(df)\n",
    "dft = df.iloc[4:6]\n",
    "print(dft)\n",
    "print(type(dft))"
   ]
  },
  {
   "cell_type": "markdown",
   "metadata": {},
   "source": [
    "cols company & deaths"
   ]
  },
  {
   "cell_type": "code",
   "execution_count": 275,
   "metadata": {},
   "outputs": [
    {
     "name": "stdout",
     "output_type": "stream",
     "text": [
      "              regiment company  deaths  battles  size\n",
      "origin                                               \n",
      "Arizona     Nighthawks     1st     523        5  1045\n",
      "California  Nighthawks     1st      52       42   957\n",
      "Texas       Nighthawks     2nd      25        2  1099\n",
      "Florida     Nighthawks     2nd     616        2  1400\n",
      "Arizona       Dragoons     1st      43        4  1592\n",
      "Arizona       Dragoons     1st     234        7  1006\n",
      "Alaska        Dragoons     2nd     523        8   987\n",
      "Washington    Dragoons     2nd      62        3   849\n",
      "Oregon          Scouts     1st      62        4   973\n",
      "Wyoming         Scouts     1st      73        7  1005\n",
      "Louisana        Scouts     2nd      37        8  1099\n",
      "Georgia         Scouts     2nd      35        9  1523\n",
      "           company  deaths\n",
      "origin                    \n",
      "Arizona        1st     523\n",
      "California     1st      52\n",
      "Texas          2nd      25\n",
      "Florida        2nd     616\n",
      "Arizona        1st      43\n",
      "Arizona        1st     234\n",
      "Alaska         2nd     523\n",
      "Washington     2nd      62\n",
      "Oregon         1st      62\n",
      "Wyoming        1st      73\n",
      "Louisana       2nd      37\n",
      "Georgia        2nd      35\n",
      "<class 'pandas.core.frame.DataFrame'>\n"
     ]
    }
   ],
   "source": [
    "print(df)\n",
    "dft = df.iloc[:,1:3]\n",
    "print(dft)\n",
    "print(type(dft))"
   ]
  },
  {
   "cell_type": "code",
   "execution_count": null,
   "metadata": {},
   "outputs": [],
   "source": []
  }
 ],
 "metadata": {
  "kernelspec": {
   "display_name": "Python 3",
   "language": "python",
   "name": "python3"
  },
  "language_info": {
   "codemirror_mode": {
    "name": "ipython",
    "version": 3
   },
   "file_extension": ".py",
   "mimetype": "text/x-python",
   "name": "python",
   "nbconvert_exporter": "python",
   "pygments_lexer": "ipython3",
   "version": "3.8.5"
  }
 },
 "nbformat": 4,
 "nbformat_minor": 2
}
