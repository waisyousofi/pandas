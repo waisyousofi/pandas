{
 "cells": [
  {
   "cell_type": "code",
   "execution_count": 1,
   "metadata": {},
   "outputs": [
    {
     "data": {
      "text/plain": [
       "'\\n@filename: DataFrame-BasicOps\\n@author: waisullah\\n@url: https://pandas.pydata.org/pandas-docs/stable/index.html\\n'"
      ]
     },
     "execution_count": 1,
     "metadata": {},
     "output_type": "execute_result"
    }
   ],
   "source": [
    "\"\"\"\n",
    "@filename: DataFrame-BasicOps\n",
    "@author: waisullah\n",
    "@url: https://pandas.pydata.org/pandas-docs/stable/index.html\n",
    "\"\"\""
   ]
  },
  {
   "cell_type": "code",
   "execution_count": 2,
   "metadata": {},
   "outputs": [],
   "source": [
    "import pandas as pd\n",
    "import numpy as np"
   ]
  },
  {
   "cell_type": "markdown",
   "metadata": {},
   "source": [
    "read data from csv and load data in a dataframe"
   ]
  },
  {
   "cell_type": "code",
   "execution_count": 4,
   "metadata": {},
   "outputs": [],
   "source": [
    "df = pd.read_csv('..\\dataset/Catalog.csv')\n"
   ]
  },
  {
   "cell_type": "markdown",
   "metadata": {},
   "source": [
    "print df"
   ]
  },
  {
   "cell_type": "code",
   "execution_count": 5,
   "metadata": {},
   "outputs": [
    {
     "name": "stdout",
     "output_type": "stream",
     "text": [
      "                 Title           Artist Country         Company  Price  Year\n",
      "0    Empire, Burlesque        Bob Dylan     USA        Columbia   10.9  1985\n",
      "1      Hide your heart     Bonnie Tyler      UK     CBS Records    9.9  1988\n",
      "2        Greatest Hits     Dolly Parton     USA             RCA    9.9  1982\n",
      "3        Got the blues       Gary Moore     NaN  Virgin records   10.2  1990\n",
      "4                 Eros  Eros Ramazzotti      EU             BMG    9.9  1997\n",
      "5       One night only         Bee Gees      UK         Polydor   10.9  1998\n",
      "6       Sylvias Mother          Dr.Hook      UK             CBS    8.1  1973\n",
      "7           Maggie May      Rod Stewart      UK        Pickwick    8.5  1990\n",
      "8              Romanza   Andrea Bocelli      EU         Polydor    NaN  1996\n",
      "9   Man loves, a woman     Percy Sledge     USA        Atlantic    8.7  1987\n",
      "10         Black angel      Savage Rose      EU            Mega   10.9  1995\n",
      "11     Grammy Nominees             Many     USA          Grammy   10.2  1999\n",
      "12  For the good times     Kenny Rogers      UK    Mucik Master    8.7  1995\n",
      "13    Big Willie style       Will Smith     USA        Columbia    9.9  1997\n",
      "14        Tupelo Honey     Van Morrison      UK         Polydor    8.2  1971\n",
      "15          Soulsville        Jorn Hoel     NaN             WEA    7.9  1996\n",
      "16    The very best of      Cat Stevens      UK          Island    8.9  1990\n",
      "17                Stop        Sam Brown      UK         A and M    8.9  1988\n",
      "18     Bridge of Spies            T'Pau      UK           Siren    7.9  1987\n",
      "19      Private Dancer      Tina Turner      UK         Capitol    8.9  1983\n",
      "20      Midt om natten       Kim Larsen      EU          Medley    7.8  1983\n",
      "21   Pavarotti Concert   Lucy Pavarotti      UK           DECCA    9.9  1991\n",
      "22     Dock of the bay     Otis Redding     USA        Atlantic    7.9  1987\n",
      "23        Picture book       Simply Red      EU         Elektra    7.2  1985\n",
      "24                 Red   The Communards      UK          London    7.8  1987\n",
      "25    Unchain my heart       Joe Cocker     USA             EMI    8.2  1987\n"
     ]
    }
   ],
   "source": [
    "print(df)"
   ]
  },
  {
   "cell_type": "markdown",
   "metadata": {},
   "source": [
    "info df"
   ]
  },
  {
   "cell_type": "code",
   "execution_count": 6,
   "metadata": {},
   "outputs": [
    {
     "name": "stdout",
     "output_type": "stream",
     "text": [
      "<class 'pandas.core.frame.DataFrame'>\n",
      "RangeIndex: 26 entries, 0 to 25\n",
      "Data columns (total 6 columns):\n",
      " #   Column   Non-Null Count  Dtype  \n",
      "---  ------   --------------  -----  \n",
      " 0   Title    26 non-null     object \n",
      " 1   Artist   26 non-null     object \n",
      " 2   Country  24 non-null     object \n",
      " 3   Company  26 non-null     object \n",
      " 4   Price    25 non-null     float64\n",
      " 5   Year     26 non-null     int64  \n",
      "dtypes: float64(1), int64(1), object(4)\n",
      "memory usage: 1.3+ KB\n",
      "None\n"
     ]
    }
   ],
   "source": [
    "print(df.info())"
   ]
  },
  {
   "cell_type": "markdown",
   "metadata": {},
   "source": [
    "summary df"
   ]
  },
  {
   "cell_type": "code",
   "execution_count": 7,
   "metadata": {},
   "outputs": [
    {
     "name": "stdout",
     "output_type": "stream",
     "text": [
      "           Price         Year\n",
      "count  25.000000    26.000000\n",
      "mean    9.048000  1988.730769\n",
      "std     1.118079     7.040214\n",
      "min     7.200000  1971.000000\n",
      "25%     8.100000  1985.500000\n",
      "50%     8.900000  1988.000000\n",
      "75%     9.900000  1995.000000\n",
      "max    10.900000  1999.000000\n"
     ]
    }
   ],
   "source": [
    "print(df.describe())"
   ]
  },
  {
   "cell_type": "markdown",
   "metadata": {},
   "source": [
    "# variations"
   ]
  },
  {
   "cell_type": "code",
   "execution_count": 11,
   "metadata": {},
   "outputs": [],
   "source": [
    "# load a csv with no headers<br>\n",
    "df = pd.read_csv('..\\dataset/Catalog.csv', header=None)\n",
    "# load a csv while specifying column names<br>\n",
    "df = pd.read_csv('..\\dataset/Catalog.csv', names=['Title', 'Artist', 'Country', 'Company', 'Price', 'Year'])\n",
    "# load a csv while specifying \".\" as missing values<br>\n",
    "df = pd.read_csv('..\\dataset/Catalog.csv', na_values=['.'])\n",
    "# load a csv while skipping the top 3 rows<br>\n",
    "df = pd.read_csv('..\\dataset/Catalog.csv', skiprows=3)\n",
    "# load a csv while interpreting \",\" in strings around numbers as thousands seperators<br>\n",
    "df = pd.read_csv('..\\dataset/Catalog.csv', thousands=',')"
   ]
  },
  {
   "cell_type": "markdown",
   "metadata": {},
   "source": [
    "see the top & bottom rows of the frame"
   ]
  },
  {
   "cell_type": "code",
   "execution_count": 12,
   "metadata": {},
   "outputs": [
    {
     "name": "stdout",
     "output_type": "stream",
     "text": [
      "               Title           Artist Country         Company  Price  Year\n",
      "0  Empire, Burlesque        Bob Dylan     USA        Columbia   10.9  1985\n",
      "1    Hide your heart     Bonnie Tyler      UK     CBS Records    9.9  1988\n",
      "2      Greatest Hits     Dolly Parton     USA             RCA    9.9  1982\n",
      "3      Got the blues       Gary Moore     NaN  Virgin records   10.2  1990\n",
      "4               Eros  Eros Ramazzotti      EU             BMG    9.9  1997\n",
      "                Title          Artist Country   Company  Price  Year\n",
      "21  Pavarotti Concert  Lucy Pavarotti      UK     DECCA    9.9  1991\n",
      "22    Dock of the bay    Otis Redding     USA  Atlantic    7.9  1987\n",
      "23       Picture book      Simply Red      EU   Elektra    7.2  1985\n",
      "24                Red  The Communards      UK    London    7.8  1987\n",
      "25   Unchain my heart      Joe Cocker     USA       EMI    8.2  1987\n"
     ]
    }
   ],
   "source": [
    "print(df.head())\n",
    "print(df.tail())"
   ]
  },
  {
   "cell_type": "code",
   "execution_count": 13,
   "metadata": {},
   "outputs": [
    {
     "name": "stdout",
     "output_type": "stream",
     "text": [
      "               Title        Artist Country      Company  Price  Year\n",
      "0  Empire, Burlesque     Bob Dylan     USA     Columbia   10.9  1985\n",
      "1    Hide your heart  Bonnie Tyler      UK  CBS Records    9.9  1988\n",
      "               Title          Artist Country  Company  Price  Year\n",
      "23      Picture book      Simply Red      EU  Elektra    7.2  1985\n",
      "24               Red  The Communards      UK   London    7.8  1987\n",
      "25  Unchain my heart      Joe Cocker     USA      EMI    8.2  1987\n"
     ]
    }
   ],
   "source": [
    "print(df.head(2))\n",
    "print(df.tail(3))"
   ]
  },
  {
   "cell_type": "markdown",
   "metadata": {},
   "source": [
    "display the index"
   ]
  },
  {
   "cell_type": "code",
   "execution_count": 14,
   "metadata": {},
   "outputs": [
    {
     "name": "stdout",
     "output_type": "stream",
     "text": [
      "RangeIndex(start=0, stop=26, step=1)\n"
     ]
    }
   ],
   "source": [
    "print(df.index)"
   ]
  },
  {
   "cell_type": "markdown",
   "metadata": {},
   "source": [
    "display columns"
   ]
  },
  {
   "cell_type": "code",
   "execution_count": 15,
   "metadata": {},
   "outputs": [
    {
     "name": "stdout",
     "output_type": "stream",
     "text": [
      "Index(['Title', 'Artist', 'Country', 'Company', 'Price', 'Year'], dtype='object')\n"
     ]
    }
   ],
   "source": [
    "print(df.columns)"
   ]
  },
  {
   "cell_type": "markdown",
   "metadata": {},
   "source": [
    "print dataframe with RowNo as index<br>\n",
    "df[n:n]<br>\n",
    "Note that Pandas uses zero based numbering, so 0 is the first row, <br>\n",
    "1 is the second row, etc.<br>\n",
    "1:2 is to be read as starting 1 upto but including 2 ... prints row 1 only"
   ]
  },
  {
   "cell_type": "code",
   "execution_count": 16,
   "metadata": {},
   "outputs": [
    {
     "name": "stdout",
     "output_type": "stream",
     "text": [
      "                 Title           Artist Country         Company  Price  Year\n",
      "0    Empire, Burlesque        Bob Dylan     USA        Columbia   10.9  1985\n",
      "1      Hide your heart     Bonnie Tyler      UK     CBS Records    9.9  1988\n",
      "2        Greatest Hits     Dolly Parton     USA             RCA    9.9  1982\n",
      "3        Got the blues       Gary Moore     NaN  Virgin records   10.2  1990\n",
      "4                 Eros  Eros Ramazzotti      EU             BMG    9.9  1997\n",
      "5       One night only         Bee Gees      UK         Polydor   10.9  1998\n",
      "6       Sylvias Mother          Dr.Hook      UK             CBS    8.1  1973\n",
      "7           Maggie May      Rod Stewart      UK        Pickwick    8.5  1990\n",
      "8              Romanza   Andrea Bocelli      EU         Polydor    NaN  1996\n",
      "9   Man loves, a woman     Percy Sledge     USA        Atlantic    8.7  1987\n",
      "10         Black angel      Savage Rose      EU            Mega   10.9  1995\n",
      "11     Grammy Nominees             Many     USA          Grammy   10.2  1999\n",
      "12  For the good times     Kenny Rogers      UK    Mucik Master    8.7  1995\n",
      "13    Big Willie style       Will Smith     USA        Columbia    9.9  1997\n",
      "14        Tupelo Honey     Van Morrison      UK         Polydor    8.2  1971\n",
      "15          Soulsville        Jorn Hoel     NaN             WEA    7.9  1996\n",
      "16    The very best of      Cat Stevens      UK          Island    8.9  1990\n",
      "17                Stop        Sam Brown      UK         A and M    8.9  1988\n",
      "18     Bridge of Spies            T'Pau      UK           Siren    7.9  1987\n",
      "19      Private Dancer      Tina Turner      UK         Capitol    8.9  1983\n",
      "20      Midt om natten       Kim Larsen      EU          Medley    7.8  1983\n",
      "21   Pavarotti Concert   Lucy Pavarotti      UK           DECCA    9.9  1991\n",
      "22     Dock of the bay     Otis Redding     USA        Atlantic    7.9  1987\n",
      "23        Picture book       Simply Red      EU         Elektra    7.2  1985\n",
      "24                 Red   The Communards      UK          London    7.8  1987\n",
      "25    Unchain my heart       Joe Cocker     USA             EMI    8.2  1987\n",
      "             Title        Artist Country      Company  Price  Year\n",
      "1  Hide your heart  Bonnie Tyler      UK  CBS Records    9.9  1988\n",
      "                 Title           Artist Country         Company  Price  Year\n",
      "1      Hide your heart     Bonnie Tyler      UK     CBS Records    9.9  1988\n",
      "2        Greatest Hits     Dolly Parton     USA             RCA    9.9  1982\n",
      "3        Got the blues       Gary Moore     NaN  Virgin records   10.2  1990\n",
      "4                 Eros  Eros Ramazzotti      EU             BMG    9.9  1997\n",
      "5       One night only         Bee Gees      UK         Polydor   10.9  1998\n",
      "6       Sylvias Mother          Dr.Hook      UK             CBS    8.1  1973\n",
      "7           Maggie May      Rod Stewart      UK        Pickwick    8.5  1990\n",
      "8              Romanza   Andrea Bocelli      EU         Polydor    NaN  1996\n",
      "9   Man loves, a woman     Percy Sledge     USA        Atlantic    8.7  1987\n",
      "10         Black angel      Savage Rose      EU            Mega   10.9  1995\n",
      "11     Grammy Nominees             Many     USA          Grammy   10.2  1999\n",
      "12  For the good times     Kenny Rogers      UK    Mucik Master    8.7  1995\n",
      "13    Big Willie style       Will Smith     USA        Columbia    9.9  1997\n",
      "14        Tupelo Honey     Van Morrison      UK         Polydor    8.2  1971\n",
      "15          Soulsville        Jorn Hoel     NaN             WEA    7.9  1996\n",
      "16    The very best of      Cat Stevens      UK          Island    8.9  1990\n",
      "17                Stop        Sam Brown      UK         A and M    8.9  1988\n",
      "18     Bridge of Spies            T'Pau      UK           Siren    7.9  1987\n",
      "19      Private Dancer      Tina Turner      UK         Capitol    8.9  1983\n",
      "20      Midt om natten       Kim Larsen      EU          Medley    7.8  1983\n",
      "21   Pavarotti Concert   Lucy Pavarotti      UK           DECCA    9.9  1991\n",
      "22     Dock of the bay     Otis Redding     USA        Atlantic    7.9  1987\n",
      "23        Picture book       Simply Red      EU         Elektra    7.2  1985\n",
      "24                 Red   The Communards      UK          London    7.8  1987\n",
      "                 Title           Artist Country         Company  Price  Year\n",
      "1      Hide your heart     Bonnie Tyler      UK     CBS Records    9.9  1988\n",
      "2        Greatest Hits     Dolly Parton     USA             RCA    9.9  1982\n",
      "3        Got the blues       Gary Moore     NaN  Virgin records   10.2  1990\n",
      "4                 Eros  Eros Ramazzotti      EU             BMG    9.9  1997\n",
      "5       One night only         Bee Gees      UK         Polydor   10.9  1998\n",
      "6       Sylvias Mother          Dr.Hook      UK             CBS    8.1  1973\n",
      "7           Maggie May      Rod Stewart      UK        Pickwick    8.5  1990\n",
      "8              Romanza   Andrea Bocelli      EU         Polydor    NaN  1996\n",
      "9   Man loves, a woman     Percy Sledge     USA        Atlantic    8.7  1987\n",
      "10         Black angel      Savage Rose      EU            Mega   10.9  1995\n",
      "11     Grammy Nominees             Many     USA          Grammy   10.2  1999\n",
      "12  For the good times     Kenny Rogers      UK    Mucik Master    8.7  1995\n",
      "13    Big Willie style       Will Smith     USA        Columbia    9.9  1997\n",
      "14        Tupelo Honey     Van Morrison      UK         Polydor    8.2  1971\n",
      "15          Soulsville        Jorn Hoel     NaN             WEA    7.9  1996\n",
      "16    The very best of      Cat Stevens      UK          Island    8.9  1990\n",
      "17                Stop        Sam Brown      UK         A and M    8.9  1988\n",
      "18     Bridge of Spies            T'Pau      UK           Siren    7.9  1987\n",
      "19      Private Dancer      Tina Turner      UK         Capitol    8.9  1983\n",
      "20      Midt om natten       Kim Larsen      EU          Medley    7.8  1983\n",
      "21   Pavarotti Concert   Lucy Pavarotti      UK           DECCA    9.9  1991\n",
      "22     Dock of the bay     Otis Redding     USA        Atlantic    7.9  1987\n",
      "23        Picture book       Simply Red      EU         Elektra    7.2  1985\n",
      "24                 Red   The Communards      UK          London    7.8  1987\n",
      "25    Unchain my heart       Joe Cocker     USA             EMI    8.2  1987\n"
     ]
    }
   ],
   "source": [
    "print(df)\n",
    "print(df[1:2])\n",
    "print(df[1:-1])\n",
    "print(df[1:])"
   ]
  },
  {
   "cell_type": "markdown",
   "metadata": {},
   "source": [
    "print dataframe column using ColName<br>\n",
    "df['ColName']"
   ]
  },
  {
   "cell_type": "code",
   "execution_count": 17,
   "metadata": {},
   "outputs": [
    {
     "name": "stdout",
     "output_type": "stream",
     "text": [
      "0      Empire, Burlesque\n",
      "1        Hide your heart\n",
      "2          Greatest Hits\n",
      "3          Got the blues\n",
      "4                   Eros\n",
      "5         One night only\n",
      "6         Sylvias Mother\n",
      "7             Maggie May\n",
      "8                Romanza\n",
      "9     Man loves, a woman\n",
      "10           Black angel\n",
      "11       Grammy Nominees\n",
      "12    For the good times\n",
      "13      Big Willie style\n",
      "14          Tupelo Honey\n",
      "15            Soulsville\n",
      "16      The very best of\n",
      "17                  Stop\n",
      "18       Bridge of Spies\n",
      "19        Private Dancer\n",
      "20        Midt om natten\n",
      "21     Pavarotti Concert\n",
      "22       Dock of the bay\n",
      "23          Picture book\n",
      "24                   Red\n",
      "25      Unchain my heart\n",
      "Name: Title, dtype: object\n"
     ]
    }
   ],
   "source": [
    "print(df['Title'])"
   ]
  },
  {
   "cell_type": "markdown",
   "metadata": {},
   "source": [
    "print dataframe using RowNo & ColName"
   ]
  },
  {
   "cell_type": "code",
   "execution_count": 18,
   "metadata": {},
   "outputs": [
    {
     "name": "stdout",
     "output_type": "stream",
     "text": [
      "                 Title           Artist Country         Company  Price  Year\n",
      "0    Empire, Burlesque        Bob Dylan     USA        Columbia   10.9  1985\n",
      "1      Hide your heart     Bonnie Tyler      UK     CBS Records    9.9  1988\n",
      "2        Greatest Hits     Dolly Parton     USA             RCA    9.9  1982\n",
      "3        Got the blues       Gary Moore     NaN  Virgin records   10.2  1990\n",
      "4                 Eros  Eros Ramazzotti      EU             BMG    9.9  1997\n",
      "5       One night only         Bee Gees      UK         Polydor   10.9  1998\n",
      "6       Sylvias Mother          Dr.Hook      UK             CBS    8.1  1973\n",
      "7           Maggie May      Rod Stewart      UK        Pickwick    8.5  1990\n",
      "8              Romanza   Andrea Bocelli      EU         Polydor    NaN  1996\n",
      "9   Man loves, a woman     Percy Sledge     USA        Atlantic    8.7  1987\n",
      "10         Black angel      Savage Rose      EU            Mega   10.9  1995\n",
      "11     Grammy Nominees             Many     USA          Grammy   10.2  1999\n",
      "12  For the good times     Kenny Rogers      UK    Mucik Master    8.7  1995\n",
      "13    Big Willie style       Will Smith     USA        Columbia    9.9  1997\n",
      "14        Tupelo Honey     Van Morrison      UK         Polydor    8.2  1971\n",
      "15          Soulsville        Jorn Hoel     NaN             WEA    7.9  1996\n",
      "16    The very best of      Cat Stevens      UK          Island    8.9  1990\n",
      "17                Stop        Sam Brown      UK         A and M    8.9  1988\n",
      "18     Bridge of Spies            T'Pau      UK           Siren    7.9  1987\n",
      "19      Private Dancer      Tina Turner      UK         Capitol    8.9  1983\n",
      "20      Midt om natten       Kim Larsen      EU          Medley    7.8  1983\n",
      "21   Pavarotti Concert   Lucy Pavarotti      UK           DECCA    9.9  1991\n",
      "22     Dock of the bay     Otis Redding     USA        Atlantic    7.9  1987\n",
      "23        Picture book       Simply Red      EU         Elektra    7.2  1985\n",
      "24                 Red   The Communards      UK          London    7.8  1987\n",
      "25    Unchain my heart       Joe Cocker     USA             EMI    8.2  1987\n",
      "0    Empire, Burlesque\n",
      "1      Hide your heart\n",
      "Name: Title, dtype: object\n"
     ]
    }
   ],
   "source": [
    "print(df)\n",
    "print(df[0:2]['Title'])"
   ]
  },
  {
   "cell_type": "markdown",
   "metadata": {},
   "source": [
    "print dataframe using RowNo & ColName"
   ]
  },
  {
   "cell_type": "code",
   "execution_count": 19,
   "metadata": {},
   "outputs": [
    {
     "name": "stdout",
     "output_type": "stream",
     "text": [
      "0      Empire, Burlesque\n",
      "1        Hide your heart\n",
      "2          Greatest Hits\n",
      "3          Got the blues\n",
      "4                   Eros\n",
      "5         One night only\n",
      "6         Sylvias Mother\n",
      "7             Maggie May\n",
      "8                Romanza\n",
      "9     Man loves, a woman\n",
      "10           Black angel\n",
      "11       Grammy Nominees\n",
      "12    For the good times\n",
      "13      Big Willie style\n",
      "14          Tupelo Honey\n",
      "15            Soulsville\n",
      "16      The very best of\n",
      "17                  Stop\n",
      "18       Bridge of Spies\n",
      "19        Private Dancer\n",
      "20        Midt om natten\n",
      "21     Pavarotti Concert\n",
      "22       Dock of the bay\n",
      "23          Picture book\n",
      "24                   Red\n",
      "25      Unchain my heart\n",
      "Name: Title, dtype: object\n",
      "0    Empire, Burlesque\n",
      "1      Hide your heart\n",
      "Name: Title, dtype: object\n"
     ]
    }
   ],
   "source": [
    "print(df['Title'])\n",
    "print(df['Title'][0:2])"
   ]
  },
  {
   "cell_type": "markdown",
   "metadata": {},
   "source": [
    "print dataframe rows with condition<br>\n",
    "df[ df['ColName'] condition ]"
   ]
  },
  {
   "cell_type": "markdown",
   "metadata": {},
   "source": [
    "single condition numeric equals"
   ]
  },
  {
   "cell_type": "code",
   "execution_count": 20,
   "metadata": {},
   "outputs": [
    {
     "name": "stdout",
     "output_type": "stream",
     "text": [
      "               Title       Artist Country         Company  Price  Year\n",
      "3      Got the blues   Gary Moore     NaN  Virgin records   10.2  1990\n",
      "7         Maggie May  Rod Stewart      UK        Pickwick    8.5  1990\n",
      "16  The very best of  Cat Stevens      UK          Island    8.9  1990\n"
     ]
    }
   ],
   "source": [
    "dfnew = df[  df['Year']==1990  ]\n",
    "print(dfnew)"
   ]
  },
  {
   "cell_type": "markdown",
   "metadata": {},
   "source": [
    "single condition numeric other operators"
   ]
  },
  {
   "cell_type": "code",
   "execution_count": 21,
   "metadata": {},
   "outputs": [
    {
     "name": "stdout",
     "output_type": "stream",
     "text": [
      "                 Title          Artist Country         Company  Price  Year\n",
      "0    Empire, Burlesque       Bob Dylan     USA        Columbia   10.9  1985\n",
      "1      Hide your heart    Bonnie Tyler      UK     CBS Records    9.9  1988\n",
      "2        Greatest Hits    Dolly Parton     USA             RCA    9.9  1982\n",
      "3        Got the blues      Gary Moore     NaN  Virgin records   10.2  1990\n",
      "6       Sylvias Mother         Dr.Hook      UK             CBS    8.1  1973\n",
      "7           Maggie May     Rod Stewart      UK        Pickwick    8.5  1990\n",
      "9   Man loves, a woman    Percy Sledge     USA        Atlantic    8.7  1987\n",
      "14        Tupelo Honey    Van Morrison      UK         Polydor    8.2  1971\n",
      "16    The very best of     Cat Stevens      UK          Island    8.9  1990\n",
      "17                Stop       Sam Brown      UK         A and M    8.9  1988\n",
      "18     Bridge of Spies           T'Pau      UK           Siren    7.9  1987\n",
      "19      Private Dancer     Tina Turner      UK         Capitol    8.9  1983\n",
      "20      Midt om natten      Kim Larsen      EU          Medley    7.8  1983\n",
      "22     Dock of the bay    Otis Redding     USA        Atlantic    7.9  1987\n",
      "23        Picture book      Simply Red      EU         Elektra    7.2  1985\n",
      "24                 Red  The Communards      UK          London    7.8  1987\n",
      "25    Unchain my heart      Joe Cocker     USA             EMI    8.2  1987\n"
     ]
    }
   ],
   "source": [
    "dfnew = df[df['Year'] <= 1990]\n",
    "print(dfnew)"
   ]
  },
  {
   "cell_type": "markdown",
   "metadata": {},
   "source": [
    "single condition numeric other operators"
   ]
  },
  {
   "cell_type": "code",
   "execution_count": 22,
   "metadata": {},
   "outputs": [
    {
     "name": "stdout",
     "output_type": "stream",
     "text": [
      "                 Title           Artist Country         Company  Price  Year\n",
      "3        Got the blues       Gary Moore     NaN  Virgin records   10.2  1990\n",
      "4                 Eros  Eros Ramazzotti      EU             BMG    9.9  1997\n",
      "5       One night only         Bee Gees      UK         Polydor   10.9  1998\n",
      "7           Maggie May      Rod Stewart      UK        Pickwick    8.5  1990\n",
      "8              Romanza   Andrea Bocelli      EU         Polydor    NaN  1996\n",
      "10         Black angel      Savage Rose      EU            Mega   10.9  1995\n",
      "11     Grammy Nominees             Many     USA          Grammy   10.2  1999\n",
      "12  For the good times     Kenny Rogers      UK    Mucik Master    8.7  1995\n",
      "13    Big Willie style       Will Smith     USA        Columbia    9.9  1997\n",
      "15          Soulsville        Jorn Hoel     NaN             WEA    7.9  1996\n",
      "16    The very best of      Cat Stevens      UK          Island    8.9  1990\n",
      "21   Pavarotti Concert   Lucy Pavarotti      UK           DECCA    9.9  1991\n"
     ]
    }
   ],
   "source": [
    "dfnew = df[df['Year'] >= 1990]\n",
    "print(dfnew)"
   ]
  },
  {
   "cell_type": "markdown",
   "metadata": {},
   "source": [
    "single condition numeric not operator"
   ]
  },
  {
   "cell_type": "code",
   "execution_count": 23,
   "metadata": {},
   "outputs": [
    {
     "name": "stdout",
     "output_type": "stream",
     "text": [
      "                 Title           Artist Country       Company  Price  Year\n",
      "0    Empire, Burlesque        Bob Dylan     USA      Columbia   10.9  1985\n",
      "1      Hide your heart     Bonnie Tyler      UK   CBS Records    9.9  1988\n",
      "2        Greatest Hits     Dolly Parton     USA           RCA    9.9  1982\n",
      "4                 Eros  Eros Ramazzotti      EU           BMG    9.9  1997\n",
      "5       One night only         Bee Gees      UK       Polydor   10.9  1998\n",
      "6       Sylvias Mother          Dr.Hook      UK           CBS    8.1  1973\n",
      "8              Romanza   Andrea Bocelli      EU       Polydor    NaN  1996\n",
      "9   Man loves, a woman     Percy Sledge     USA      Atlantic    8.7  1987\n",
      "10         Black angel      Savage Rose      EU          Mega   10.9  1995\n",
      "11     Grammy Nominees             Many     USA        Grammy   10.2  1999\n",
      "12  For the good times     Kenny Rogers      UK  Mucik Master    8.7  1995\n",
      "13    Big Willie style       Will Smith     USA      Columbia    9.9  1997\n",
      "14        Tupelo Honey     Van Morrison      UK       Polydor    8.2  1971\n",
      "15          Soulsville        Jorn Hoel     NaN           WEA    7.9  1996\n",
      "17                Stop        Sam Brown      UK       A and M    8.9  1988\n",
      "18     Bridge of Spies            T'Pau      UK         Siren    7.9  1987\n",
      "19      Private Dancer      Tina Turner      UK       Capitol    8.9  1983\n",
      "20      Midt om natten       Kim Larsen      EU        Medley    7.8  1983\n",
      "21   Pavarotti Concert   Lucy Pavarotti      UK         DECCA    9.9  1991\n",
      "22     Dock of the bay     Otis Redding     USA      Atlantic    7.9  1987\n",
      "23        Picture book       Simply Red      EU       Elektra    7.2  1985\n",
      "24                 Red   The Communards      UK        London    7.8  1987\n",
      "25    Unchain my heart       Joe Cocker     USA           EMI    8.2  1987\n"
     ]
    }
   ],
   "source": [
    "dfnew = df[df['Year'] != 1990]\n",
    "print(dfnew)"
   ]
  },
  {
   "cell_type": "markdown",
   "metadata": {},
   "source": [
    "single condition string equals"
   ]
  },
  {
   "cell_type": "code",
   "execution_count": 24,
   "metadata": {},
   "outputs": [
    {
     "name": "stdout",
     "output_type": "stream",
     "text": [
      "   Title          Artist Country Company  Price  Year\n",
      "24   Red  The Communards      UK  London    7.8  1987\n"
     ]
    }
   ],
   "source": [
    "dfnew = df[df['Title'] == 'Red']\n",
    "print(dfnew)"
   ]
  },
  {
   "cell_type": "markdown",
   "metadata": {},
   "source": [
    "single condition string NOT equals"
   ]
  },
  {
   "cell_type": "code",
   "execution_count": 25,
   "metadata": {},
   "outputs": [
    {
     "name": "stdout",
     "output_type": "stream",
     "text": [
      "                 Title           Artist Country         Company  Price  Year\n",
      "0    Empire, Burlesque        Bob Dylan     USA        Columbia   10.9  1985\n",
      "1      Hide your heart     Bonnie Tyler      UK     CBS Records    9.9  1988\n",
      "2        Greatest Hits     Dolly Parton     USA             RCA    9.9  1982\n",
      "3        Got the blues       Gary Moore     NaN  Virgin records   10.2  1990\n",
      "4                 Eros  Eros Ramazzotti      EU             BMG    9.9  1997\n",
      "5       One night only         Bee Gees      UK         Polydor   10.9  1998\n",
      "6       Sylvias Mother          Dr.Hook      UK             CBS    8.1  1973\n",
      "7           Maggie May      Rod Stewart      UK        Pickwick    8.5  1990\n",
      "8              Romanza   Andrea Bocelli      EU         Polydor    NaN  1996\n",
      "9   Man loves, a woman     Percy Sledge     USA        Atlantic    8.7  1987\n",
      "10         Black angel      Savage Rose      EU            Mega   10.9  1995\n",
      "11     Grammy Nominees             Many     USA          Grammy   10.2  1999\n",
      "12  For the good times     Kenny Rogers      UK    Mucik Master    8.7  1995\n",
      "13    Big Willie style       Will Smith     USA        Columbia    9.9  1997\n",
      "14        Tupelo Honey     Van Morrison      UK         Polydor    8.2  1971\n",
      "15          Soulsville        Jorn Hoel     NaN             WEA    7.9  1996\n",
      "16    The very best of      Cat Stevens      UK          Island    8.9  1990\n",
      "17                Stop        Sam Brown      UK         A and M    8.9  1988\n",
      "18     Bridge of Spies            T'Pau      UK           Siren    7.9  1987\n",
      "19      Private Dancer      Tina Turner      UK         Capitol    8.9  1983\n",
      "20      Midt om natten       Kim Larsen      EU          Medley    7.8  1983\n",
      "21   Pavarotti Concert   Lucy Pavarotti      UK           DECCA    9.9  1991\n",
      "22     Dock of the bay     Otis Redding     USA        Atlantic    7.9  1987\n",
      "23        Picture book       Simply Red      EU         Elektra    7.2  1985\n",
      "25    Unchain my heart       Joe Cocker     USA             EMI    8.2  1987\n"
     ]
    }
   ],
   "source": [
    "dfnew = df[df['Title'] != 'Red']\n",
    "print(dfnew)"
   ]
  },
  {
   "cell_type": "markdown",
   "metadata": {},
   "source": [
    "single condition string less than equals"
   ]
  },
  {
   "cell_type": "code",
   "execution_count": 26,
   "metadata": {},
   "outputs": [
    {
     "name": "stdout",
     "output_type": "stream",
     "text": [
      "                 Title           Artist Country         Company  Price  Year\n",
      "0    Empire, Burlesque        Bob Dylan     USA        Columbia   10.9  1985\n",
      "1      Hide your heart     Bonnie Tyler      UK     CBS Records    9.9  1988\n",
      "2        Greatest Hits     Dolly Parton     USA             RCA    9.9  1982\n",
      "3        Got the blues       Gary Moore     NaN  Virgin records   10.2  1990\n",
      "4                 Eros  Eros Ramazzotti      EU             BMG    9.9  1997\n",
      "5       One night only         Bee Gees      UK         Polydor   10.9  1998\n",
      "7           Maggie May      Rod Stewart      UK        Pickwick    8.5  1990\n",
      "9   Man loves, a woman     Percy Sledge     USA        Atlantic    8.7  1987\n",
      "10         Black angel      Savage Rose      EU            Mega   10.9  1995\n",
      "11     Grammy Nominees             Many     USA          Grammy   10.2  1999\n",
      "12  For the good times     Kenny Rogers      UK    Mucik Master    8.7  1995\n",
      "13    Big Willie style       Will Smith     USA        Columbia    9.9  1997\n",
      "18     Bridge of Spies            T'Pau      UK           Siren    7.9  1987\n",
      "19      Private Dancer      Tina Turner      UK         Capitol    8.9  1983\n",
      "20      Midt om natten       Kim Larsen      EU          Medley    7.8  1983\n",
      "21   Pavarotti Concert   Lucy Pavarotti      UK           DECCA    9.9  1991\n",
      "22     Dock of the bay     Otis Redding     USA        Atlantic    7.9  1987\n",
      "23        Picture book       Simply Red      EU         Elektra    7.2  1985\n",
      "24                 Red   The Communards      UK          London    7.8  1987\n"
     ]
    }
   ],
   "source": [
    "dfnew = df[df['Title'] <= 'Red']\n",
    "print(dfnew)"
   ]
  },
  {
   "cell_type": "markdown",
   "metadata": {},
   "source": [
    "single condition string isNULL"
   ]
  },
  {
   "cell_type": "code",
   "execution_count": 27,
   "metadata": {},
   "outputs": [
    {
     "name": "stdout",
     "output_type": "stream",
     "text": [
      "            Title      Artist Country         Company  Price  Year\n",
      "3   Got the blues  Gary Moore     NaN  Virgin records   10.2  1990\n",
      "15     Soulsville   Jorn Hoel     NaN             WEA    7.9  1996\n"
     ]
    }
   ],
   "source": [
    "dfnew = df[df['Country'].isnull()]\n",
    "print(dfnew)"
   ]
  },
  {
   "cell_type": "markdown",
   "metadata": {},
   "source": [
    "single condition string notNULL"
   ]
  },
  {
   "cell_type": "code",
   "execution_count": 28,
   "metadata": {},
   "outputs": [
    {
     "name": "stdout",
     "output_type": "stream",
     "text": [
      "                 Title           Artist Country       Company  Price  Year\n",
      "0    Empire, Burlesque        Bob Dylan     USA      Columbia   10.9  1985\n",
      "1      Hide your heart     Bonnie Tyler      UK   CBS Records    9.9  1988\n",
      "2        Greatest Hits     Dolly Parton     USA           RCA    9.9  1982\n",
      "4                 Eros  Eros Ramazzotti      EU           BMG    9.9  1997\n",
      "5       One night only         Bee Gees      UK       Polydor   10.9  1998\n",
      "6       Sylvias Mother          Dr.Hook      UK           CBS    8.1  1973\n",
      "7           Maggie May      Rod Stewart      UK      Pickwick    8.5  1990\n",
      "8              Romanza   Andrea Bocelli      EU       Polydor    NaN  1996\n",
      "9   Man loves, a woman     Percy Sledge     USA      Atlantic    8.7  1987\n",
      "10         Black angel      Savage Rose      EU          Mega   10.9  1995\n",
      "11     Grammy Nominees             Many     USA        Grammy   10.2  1999\n",
      "12  For the good times     Kenny Rogers      UK  Mucik Master    8.7  1995\n",
      "13    Big Willie style       Will Smith     USA      Columbia    9.9  1997\n",
      "14        Tupelo Honey     Van Morrison      UK       Polydor    8.2  1971\n",
      "16    The very best of      Cat Stevens      UK        Island    8.9  1990\n",
      "17                Stop        Sam Brown      UK       A and M    8.9  1988\n",
      "18     Bridge of Spies            T'Pau      UK         Siren    7.9  1987\n",
      "19      Private Dancer      Tina Turner      UK       Capitol    8.9  1983\n",
      "20      Midt om natten       Kim Larsen      EU        Medley    7.8  1983\n",
      "21   Pavarotti Concert   Lucy Pavarotti      UK         DECCA    9.9  1991\n",
      "22     Dock of the bay     Otis Redding     USA      Atlantic    7.9  1987\n",
      "23        Picture book       Simply Red      EU       Elektra    7.2  1985\n",
      "24                 Red   The Communards      UK        London    7.8  1987\n",
      "25    Unchain my heart       Joe Cocker     USA           EMI    8.2  1987\n"
     ]
    }
   ],
   "source": [
    "dfnew = df[df['Country'].notnull()]\n",
    "print(dfnew)"
   ]
  },
  {
   "cell_type": "markdown",
   "metadata": {},
   "source": [
    "multi condition AND & - notice the brackets <br>\n",
    "each condition MUST be enclosed in seperate brackets"
   ]
  },
  {
   "cell_type": "code",
   "execution_count": 29,
   "metadata": {},
   "outputs": [
    {
     "name": "stdout",
     "output_type": "stream",
     "text": [
      "                 Title          Artist Country         Company  Price  Year\n",
      "0    Empire, Burlesque       Bob Dylan     USA        Columbia   10.9  1985\n",
      "1      Hide your heart    Bonnie Tyler      UK     CBS Records    9.9  1988\n",
      "2        Greatest Hits    Dolly Parton     USA             RCA    9.9  1982\n",
      "3        Got the blues      Gary Moore     NaN  Virgin records   10.2  1990\n",
      "7           Maggie May     Rod Stewart      UK        Pickwick    8.5  1990\n",
      "9   Man loves, a woman    Percy Sledge     USA        Atlantic    8.7  1987\n",
      "16    The very best of     Cat Stevens      UK          Island    8.9  1990\n",
      "17                Stop       Sam Brown      UK         A and M    8.9  1988\n",
      "18     Bridge of Spies           T'Pau      UK           Siren    7.9  1987\n",
      "19      Private Dancer     Tina Turner      UK         Capitol    8.9  1983\n",
      "20      Midt om natten      Kim Larsen      EU          Medley    7.8  1983\n",
      "22     Dock of the bay    Otis Redding     USA        Atlantic    7.9  1987\n",
      "23        Picture book      Simply Red      EU         Elektra    7.2  1985\n",
      "24                 Red  The Communards      UK          London    7.8  1987\n",
      "25    Unchain my heart      Joe Cocker     USA             EMI    8.2  1987\n"
     ]
    }
   ],
   "source": [
    "dfnew = df[ (df['Year'] >= 1980) & (df['Year'] <= 1990) ]\n",
    "print(dfnew)"
   ]
  },
  {
   "cell_type": "markdown",
   "metadata": {},
   "source": [
    "multi condition OR | - notice the brackets <br>\n",
    "each condition MUST be enclosed in seperate brackets"
   ]
  },
  {
   "cell_type": "code",
   "execution_count": 30,
   "metadata": {},
   "outputs": [
    {
     "name": "stdout",
     "output_type": "stream",
     "text": [
      "                 Title           Artist Country         Company  Price  Year\n",
      "3        Got the blues       Gary Moore     NaN  Virgin records   10.2  1990\n",
      "4                 Eros  Eros Ramazzotti      EU             BMG    9.9  1997\n",
      "5       One night only         Bee Gees      UK         Polydor   10.9  1998\n",
      "6       Sylvias Mother          Dr.Hook      UK             CBS    8.1  1973\n",
      "7           Maggie May      Rod Stewart      UK        Pickwick    8.5  1990\n",
      "8              Romanza   Andrea Bocelli      EU         Polydor    NaN  1996\n",
      "10         Black angel      Savage Rose      EU            Mega   10.9  1995\n",
      "11     Grammy Nominees             Many     USA          Grammy   10.2  1999\n",
      "12  For the good times     Kenny Rogers      UK    Mucik Master    8.7  1995\n",
      "13    Big Willie style       Will Smith     USA        Columbia    9.9  1997\n",
      "14        Tupelo Honey     Van Morrison      UK         Polydor    8.2  1971\n",
      "15          Soulsville        Jorn Hoel     NaN             WEA    7.9  1996\n",
      "16    The very best of      Cat Stevens      UK          Island    8.9  1990\n",
      "21   Pavarotti Concert   Lucy Pavarotti      UK           DECCA    9.9  1991\n"
     ]
    }
   ],
   "source": [
    "dfnew = df[ (df['Year'] <= 1980) | (df['Year'] >= 1990) ]\n",
    "print(dfnew)"
   ]
  },
  {
   "cell_type": "markdown",
   "metadata": {},
   "source": [
    "multi condition AND & + OR | - notice the brackets <br>\n",
    "each condition MUST be enclosed in seperate brackets"
   ]
  },
  {
   "cell_type": "code",
   "execution_count": 31,
   "metadata": {},
   "outputs": [
    {
     "name": "stdout",
     "output_type": "stream",
     "text": [
      "                 Title           Artist Country         Company  Price  Year\n",
      "0    Empire, Burlesque        Bob Dylan     USA        Columbia   10.9  1985\n",
      "1      Hide your heart     Bonnie Tyler      UK     CBS Records    9.9  1988\n",
      "2        Greatest Hits     Dolly Parton     USA             RCA    9.9  1982\n",
      "3        Got the blues       Gary Moore     NaN  Virgin records   10.2  1990\n",
      "4                 Eros  Eros Ramazzotti      EU             BMG    9.9  1997\n",
      "5       One night only         Bee Gees      UK         Polydor   10.9  1998\n",
      "6       Sylvias Mother          Dr.Hook      UK             CBS    8.1  1973\n",
      "7           Maggie May      Rod Stewart      UK        Pickwick    8.5  1990\n",
      "8              Romanza   Andrea Bocelli      EU         Polydor    NaN  1996\n",
      "9   Man loves, a woman     Percy Sledge     USA        Atlantic    8.7  1987\n",
      "10         Black angel      Savage Rose      EU            Mega   10.9  1995\n",
      "11     Grammy Nominees             Many     USA          Grammy   10.2  1999\n",
      "12  For the good times     Kenny Rogers      UK    Mucik Master    8.7  1995\n",
      "13    Big Willie style       Will Smith     USA        Columbia    9.9  1997\n",
      "14        Tupelo Honey     Van Morrison      UK         Polydor    8.2  1971\n",
      "15          Soulsville        Jorn Hoel     NaN             WEA    7.9  1996\n",
      "16    The very best of      Cat Stevens      UK          Island    8.9  1990\n",
      "17                Stop        Sam Brown      UK         A and M    8.9  1988\n",
      "18     Bridge of Spies            T'Pau      UK           Siren    7.9  1987\n",
      "19      Private Dancer      Tina Turner      UK         Capitol    8.9  1983\n",
      "20      Midt om natten       Kim Larsen      EU          Medley    7.8  1983\n",
      "21   Pavarotti Concert   Lucy Pavarotti      UK           DECCA    9.9  1991\n",
      "22     Dock of the bay     Otis Redding     USA        Atlantic    7.9  1987\n",
      "23        Picture book       Simply Red      EU         Elektra    7.2  1985\n",
      "24                 Red   The Communards      UK          London    7.8  1987\n",
      "25    Unchain my heart       Joe Cocker     USA             EMI    8.2  1987\n"
     ]
    }
   ],
   "source": [
    "dfnew = df[ ( (df['Year'] >= 1980) & (df['Year'] <= 1990) ) | (df['Title'] != 'Red') ]\n",
    "print(dfnew)"
   ]
  },
  {
   "cell_type": "markdown",
   "metadata": {},
   "source": [
    "multi condition NOT ~ <br>\n",
    "each condition MUST be enclosed in seperate brackets"
   ]
  },
  {
   "cell_type": "code",
   "execution_count": 32,
   "metadata": {},
   "outputs": [
    {
     "name": "stdout",
     "output_type": "stream",
     "text": [
      "                 Title           Artist Country       Company  Price  Year\n",
      "4                 Eros  Eros Ramazzotti      EU           BMG    9.9  1997\n",
      "5       One night only         Bee Gees      UK       Polydor   10.9  1998\n",
      "6       Sylvias Mother          Dr.Hook      UK           CBS    8.1  1973\n",
      "8              Romanza   Andrea Bocelli      EU       Polydor    NaN  1996\n",
      "10         Black angel      Savage Rose      EU          Mega   10.9  1995\n",
      "11     Grammy Nominees             Many     USA        Grammy   10.2  1999\n",
      "12  For the good times     Kenny Rogers      UK  Mucik Master    8.7  1995\n",
      "13    Big Willie style       Will Smith     USA      Columbia    9.9  1997\n",
      "14        Tupelo Honey     Van Morrison      UK       Polydor    8.2  1971\n",
      "15          Soulsville        Jorn Hoel     NaN           WEA    7.9  1996\n",
      "21   Pavarotti Concert   Lucy Pavarotti      UK         DECCA    9.9  1991\n"
     ]
    }
   ],
   "source": [
    "dfnew = df[~( (df['Year'] >= 1980) & (df['Year'] <= 1990) )]\n",
    "print(dfnew)"
   ]
  },
  {
   "cell_type": "markdown",
   "metadata": {},
   "source": [
    "add new column<br>\n",
    "assign New Column To Dataframe"
   ]
  },
  {
   "cell_type": "code",
   "execution_count": 33,
   "metadata": {},
   "outputs": [
    {
     "name": "stdout",
     "output_type": "stream",
     "text": [
      "                 Title           Artist Country         Company  Price  Year  \\\n",
      "0    Empire, Burlesque        Bob Dylan     USA        Columbia   10.9  1985   \n",
      "1      Hide your heart     Bonnie Tyler      UK     CBS Records    9.9  1988   \n",
      "2        Greatest Hits     Dolly Parton     USA             RCA    9.9  1982   \n",
      "3        Got the blues       Gary Moore     NaN  Virgin records   10.2  1990   \n",
      "4                 Eros  Eros Ramazzotti      EU             BMG    9.9  1997   \n",
      "5       One night only         Bee Gees      UK         Polydor   10.9  1998   \n",
      "6       Sylvias Mother          Dr.Hook      UK             CBS    8.1  1973   \n",
      "7           Maggie May      Rod Stewart      UK        Pickwick    8.5  1990   \n",
      "8              Romanza   Andrea Bocelli      EU         Polydor    NaN  1996   \n",
      "9   Man loves, a woman     Percy Sledge     USA        Atlantic    8.7  1987   \n",
      "10         Black angel      Savage Rose      EU            Mega   10.9  1995   \n",
      "11     Grammy Nominees             Many     USA          Grammy   10.2  1999   \n",
      "12  For the good times     Kenny Rogers      UK    Mucik Master    8.7  1995   \n",
      "13    Big Willie style       Will Smith     USA        Columbia    9.9  1997   \n",
      "14        Tupelo Honey     Van Morrison      UK         Polydor    8.2  1971   \n",
      "15          Soulsville        Jorn Hoel     NaN             WEA    7.9  1996   \n",
      "16    The very best of      Cat Stevens      UK          Island    8.9  1990   \n",
      "17                Stop        Sam Brown      UK         A and M    8.9  1988   \n",
      "18     Bridge of Spies            T'Pau      UK           Siren    7.9  1987   \n",
      "19      Private Dancer      Tina Turner      UK         Capitol    8.9  1983   \n",
      "20      Midt om natten       Kim Larsen      EU          Medley    7.8  1983   \n",
      "21   Pavarotti Concert   Lucy Pavarotti      UK           DECCA    9.9  1991   \n",
      "22     Dock of the bay     Otis Redding     USA        Atlantic    7.9  1987   \n",
      "23        Picture book       Simply Red      EU         Elektra    7.2  1985   \n",
      "24                 Red   The Communards      UK          London    7.8  1987   \n",
      "25    Unchain my heart       Joe Cocker     USA             EMI    8.2  1987   \n",
      "\n",
      "       Check  \n",
      "0   SomeData  \n",
      "1   SomeData  \n",
      "2   SomeData  \n",
      "3   SomeData  \n",
      "4   SomeData  \n",
      "5   SomeData  \n",
      "6   SomeData  \n",
      "7   SomeData  \n",
      "8   SomeData  \n",
      "9   SomeData  \n",
      "10  SomeData  \n",
      "11  SomeData  \n",
      "12  SomeData  \n",
      "13  SomeData  \n",
      "14  SomeData  \n",
      "15  SomeData  \n",
      "16  SomeData  \n",
      "17  SomeData  \n",
      "18  SomeData  \n",
      "19  SomeData  \n",
      "20  SomeData  \n",
      "21  SomeData  \n",
      "22  SomeData  \n",
      "23  SomeData  \n",
      "24  SomeData  \n",
      "25  SomeData  \n",
      "                 Title           Artist Country         Company  Price  Year  \\\n",
      "0    Empire, Burlesque        Bob Dylan     USA        Columbia   10.9  1985   \n",
      "1      Hide your heart     Bonnie Tyler      UK     CBS Records    9.9  1988   \n",
      "2        Greatest Hits     Dolly Parton     USA             RCA    9.9  1982   \n",
      "3        Got the blues       Gary Moore     NaN  Virgin records   10.2  1990   \n",
      "4                 Eros  Eros Ramazzotti      EU             BMG    9.9  1997   \n",
      "5       One night only         Bee Gees      UK         Polydor   10.9  1998   \n",
      "6       Sylvias Mother          Dr.Hook      UK             CBS    8.1  1973   \n",
      "7           Maggie May      Rod Stewart      UK        Pickwick    8.5  1990   \n",
      "8              Romanza   Andrea Bocelli      EU         Polydor    NaN  1996   \n",
      "9   Man loves, a woman     Percy Sledge     USA        Atlantic    8.7  1987   \n",
      "10         Black angel      Savage Rose      EU            Mega   10.9  1995   \n",
      "11     Grammy Nominees             Many     USA          Grammy   10.2  1999   \n",
      "12  For the good times     Kenny Rogers      UK    Mucik Master    8.7  1995   \n",
      "13    Big Willie style       Will Smith     USA        Columbia    9.9  1997   \n",
      "14        Tupelo Honey     Van Morrison      UK         Polydor    8.2  1971   \n",
      "15          Soulsville        Jorn Hoel     NaN             WEA    7.9  1996   \n",
      "16    The very best of      Cat Stevens      UK          Island    8.9  1990   \n",
      "17                Stop        Sam Brown      UK         A and M    8.9  1988   \n",
      "18     Bridge of Spies            T'Pau      UK           Siren    7.9  1987   \n",
      "19      Private Dancer      Tina Turner      UK         Capitol    8.9  1983   \n",
      "20      Midt om natten       Kim Larsen      EU          Medley    7.8  1983   \n",
      "21   Pavarotti Concert   Lucy Pavarotti      UK           DECCA    9.9  1991   \n",
      "22     Dock of the bay     Otis Redding     USA        Atlantic    7.9  1987   \n",
      "23        Picture book       Simply Red      EU         Elektra    7.2  1985   \n",
      "24                 Red   The Communards      UK          London    7.8  1987   \n",
      "25    Unchain my heart       Joe Cocker     USA             EMI    8.2  1987   \n",
      "\n",
      "       Check  \n",
      "0   SomeData  \n",
      "1   SomeData  \n",
      "2   SomeData  \n",
      "3   SomeData  \n",
      "4   SomeData  \n",
      "5   SomeData  \n",
      "6   SomeData  \n",
      "7   SomeData  \n",
      "8   SomeData  \n",
      "9   SomeData  \n",
      "10  SomeData  \n",
      "11  SomeData  \n",
      "12  SomeData  \n",
      "13  SomeData  \n",
      "14  SomeData  \n",
      "15  SomeData  \n",
      "16  SomeData  \n",
      "17  SomeData  \n",
      "18  SomeData  \n",
      "19  SomeData  \n",
      "20  SomeData  \n",
      "21  SomeData  \n",
      "22  SomeData  \n",
      "23  SomeData  \n",
      "24  SomeData  \n",
      "25  SomeData  \n"
     ]
    }
   ],
   "source": [
    "df = df.assign(Check='SomeData')\n",
    "print(df)\n",
    "#or\n",
    "df['Check']='SomeData'\n",
    "print(df)"
   ]
  },
  {
   "cell_type": "markdown",
   "metadata": {},
   "source": [
    "assign a new column to df called 'Age' with formula"
   ]
  },
  {
   "cell_type": "code",
   "execution_count": 34,
   "metadata": {},
   "outputs": [
    {
     "name": "stdout",
     "output_type": "stream",
     "text": [
      "                 Title           Artist Country         Company  Price  Year  \\\n",
      "0    Empire, Burlesque        Bob Dylan     USA        Columbia   10.9  1985   \n",
      "1      Hide your heart     Bonnie Tyler      UK     CBS Records    9.9  1988   \n",
      "2        Greatest Hits     Dolly Parton     USA             RCA    9.9  1982   \n",
      "3        Got the blues       Gary Moore     NaN  Virgin records   10.2  1990   \n",
      "4                 Eros  Eros Ramazzotti      EU             BMG    9.9  1997   \n",
      "5       One night only         Bee Gees      UK         Polydor   10.9  1998   \n",
      "6       Sylvias Mother          Dr.Hook      UK             CBS    8.1  1973   \n",
      "7           Maggie May      Rod Stewart      UK        Pickwick    8.5  1990   \n",
      "8              Romanza   Andrea Bocelli      EU         Polydor    NaN  1996   \n",
      "9   Man loves, a woman     Percy Sledge     USA        Atlantic    8.7  1987   \n",
      "10         Black angel      Savage Rose      EU            Mega   10.9  1995   \n",
      "11     Grammy Nominees             Many     USA          Grammy   10.2  1999   \n",
      "12  For the good times     Kenny Rogers      UK    Mucik Master    8.7  1995   \n",
      "13    Big Willie style       Will Smith     USA        Columbia    9.9  1997   \n",
      "14        Tupelo Honey     Van Morrison      UK         Polydor    8.2  1971   \n",
      "15          Soulsville        Jorn Hoel     NaN             WEA    7.9  1996   \n",
      "16    The very best of      Cat Stevens      UK          Island    8.9  1990   \n",
      "17                Stop        Sam Brown      UK         A and M    8.9  1988   \n",
      "18     Bridge of Spies            T'Pau      UK           Siren    7.9  1987   \n",
      "19      Private Dancer      Tina Turner      UK         Capitol    8.9  1983   \n",
      "20      Midt om natten       Kim Larsen      EU          Medley    7.8  1983   \n",
      "21   Pavarotti Concert   Lucy Pavarotti      UK           DECCA    9.9  1991   \n",
      "22     Dock of the bay     Otis Redding     USA        Atlantic    7.9  1987   \n",
      "23        Picture book       Simply Red      EU         Elektra    7.2  1985   \n",
      "24                 Red   The Communards      UK          London    7.8  1987   \n",
      "25    Unchain my heart       Joe Cocker     USA             EMI    8.2  1987   \n",
      "\n",
      "       Check  Age  \n",
      "0   SomeData   35  \n",
      "1   SomeData   32  \n",
      "2   SomeData   38  \n",
      "3   SomeData   30  \n",
      "4   SomeData   23  \n",
      "5   SomeData   22  \n",
      "6   SomeData   47  \n",
      "7   SomeData   30  \n",
      "8   SomeData   24  \n",
      "9   SomeData   33  \n",
      "10  SomeData   25  \n",
      "11  SomeData   21  \n",
      "12  SomeData   25  \n",
      "13  SomeData   23  \n",
      "14  SomeData   49  \n",
      "15  SomeData   24  \n",
      "16  SomeData   30  \n",
      "17  SomeData   32  \n",
      "18  SomeData   33  \n",
      "19  SomeData   37  \n",
      "20  SomeData   37  \n",
      "21  SomeData   29  \n",
      "22  SomeData   33  \n",
      "23  SomeData   35  \n",
      "24  SomeData   33  \n",
      "25  SomeData   33  \n"
     ]
    }
   ],
   "source": [
    "df['Age']=2020-df['Year']\n",
    "print(df)"
   ]
  },
  {
   "cell_type": "markdown",
   "metadata": {},
   "source": [
    "assign a new column to df called 'Age' with formula"
   ]
  },
  {
   "cell_type": "code",
   "execution_count": 35,
   "metadata": {},
   "outputs": [
    {
     "name": "stdout",
     "output_type": "stream",
     "text": [
      "                 Title           Artist Country         Company  Price  Year  \\\n",
      "0    Empire, Burlesque        Bob Dylan     USA        Columbia   10.9  1985   \n",
      "1      Hide your heart     Bonnie Tyler      UK     CBS Records    9.9  1988   \n",
      "2        Greatest Hits     Dolly Parton     USA             RCA    9.9  1982   \n",
      "3        Got the blues       Gary Moore     NaN  Virgin records   10.2  1990   \n",
      "4                 Eros  Eros Ramazzotti      EU             BMG    9.9  1997   \n",
      "5       One night only         Bee Gees      UK         Polydor   10.9  1998   \n",
      "6       Sylvias Mother          Dr.Hook      UK             CBS    8.1  1973   \n",
      "7           Maggie May      Rod Stewart      UK        Pickwick    8.5  1990   \n",
      "8              Romanza   Andrea Bocelli      EU         Polydor    NaN  1996   \n",
      "9   Man loves, a woman     Percy Sledge     USA        Atlantic    8.7  1987   \n",
      "10         Black angel      Savage Rose      EU            Mega   10.9  1995   \n",
      "11     Grammy Nominees             Many     USA          Grammy   10.2  1999   \n",
      "12  For the good times     Kenny Rogers      UK    Mucik Master    8.7  1995   \n",
      "13    Big Willie style       Will Smith     USA        Columbia    9.9  1997   \n",
      "14        Tupelo Honey     Van Morrison      UK         Polydor    8.2  1971   \n",
      "15          Soulsville        Jorn Hoel     NaN             WEA    7.9  1996   \n",
      "16    The very best of      Cat Stevens      UK          Island    8.9  1990   \n",
      "17                Stop        Sam Brown      UK         A and M    8.9  1988   \n",
      "18     Bridge of Spies            T'Pau      UK           Siren    7.9  1987   \n",
      "19      Private Dancer      Tina Turner      UK         Capitol    8.9  1983   \n",
      "20      Midt om natten       Kim Larsen      EU          Medley    7.8  1983   \n",
      "21   Pavarotti Concert   Lucy Pavarotti      UK           DECCA    9.9  1991   \n",
      "22     Dock of the bay     Otis Redding     USA        Atlantic    7.9  1987   \n",
      "23        Picture book       Simply Red      EU         Elektra    7.2  1985   \n",
      "24                 Red   The Communards      UK          London    7.8  1987   \n",
      "25    Unchain my heart       Joe Cocker     USA             EMI    8.2  1987   \n",
      "\n",
      "      Check  Age  \n",
      "0   NewData   35  \n",
      "1   NewData   32  \n",
      "2   NewData   38  \n",
      "3   NewData   30  \n",
      "4   NewData   23  \n",
      "5   NewData   22  \n",
      "6   NewData   47  \n",
      "7   NewData   30  \n",
      "8   NewData   24  \n",
      "9   NewData   33  \n",
      "10  NewData   25  \n",
      "11  NewData   21  \n",
      "12  NewData   25  \n",
      "13  NewData   23  \n",
      "14  NewData   49  \n",
      "15  NewData   24  \n",
      "16  NewData   30  \n",
      "17  NewData   32  \n",
      "18  NewData   33  \n",
      "19  NewData   37  \n",
      "20  NewData   37  \n",
      "21  NewData   29  \n",
      "22  NewData   33  \n",
      "23  NewData   35  \n",
      "24  NewData   33  \n",
      "25  NewData   33  \n"
     ]
    }
   ],
   "source": [
    "df['Check']=\"NewData\"\n",
    "print(df)"
   ]
  },
  {
   "cell_type": "markdown",
   "metadata": {},
   "source": [
    "also allowed"
   ]
  },
  {
   "cell_type": "code",
   "execution_count": 36,
   "metadata": {},
   "outputs": [
    {
     "name": "stdout",
     "output_type": "stream",
     "text": [
      "                 Title           Artist Country         Company  Price  Year  \\\n",
      "0    Empire, Burlesque        Bob Dylan     USA        Columbia   10.9  1985   \n",
      "1      Hide your heart     Bonnie Tyler      UK     CBS Records    9.9  1988   \n",
      "2        Greatest Hits     Dolly Parton     USA             RCA    9.9  1982   \n",
      "3        Got the blues       Gary Moore     NaN  Virgin records   10.2  1990   \n",
      "4                 Eros  Eros Ramazzotti      EU             BMG    9.9  1997   \n",
      "5       One night only         Bee Gees      UK         Polydor   10.9  1998   \n",
      "6       Sylvias Mother          Dr.Hook      UK             CBS    8.1  1973   \n",
      "7           Maggie May      Rod Stewart      UK        Pickwick    8.5  1990   \n",
      "8              Romanza   Andrea Bocelli      EU         Polydor    NaN  1996   \n",
      "9   Man loves, a woman     Percy Sledge     USA        Atlantic    8.7  1987   \n",
      "10         Black angel      Savage Rose      EU            Mega   10.9  1995   \n",
      "11     Grammy Nominees             Many     USA          Grammy   10.2  1999   \n",
      "12  For the good times     Kenny Rogers      UK    Mucik Master    8.7  1995   \n",
      "13    Big Willie style       Will Smith     USA        Columbia    9.9  1997   \n",
      "14        Tupelo Honey     Van Morrison      UK         Polydor    8.2  1971   \n",
      "15          Soulsville        Jorn Hoel     NaN             WEA    7.9  1996   \n",
      "16    The very best of      Cat Stevens      UK          Island    8.9  1990   \n",
      "17                Stop        Sam Brown      UK         A and M    8.9  1988   \n",
      "18     Bridge of Spies            T'Pau      UK           Siren    7.9  1987   \n",
      "19      Private Dancer      Tina Turner      UK         Capitol    8.9  1983   \n",
      "20      Midt om natten       Kim Larsen      EU          Medley    7.8  1983   \n",
      "21   Pavarotti Concert   Lucy Pavarotti      UK           DECCA    9.9  1991   \n",
      "22     Dock of the bay     Otis Redding     USA        Atlantic    7.9  1987   \n",
      "23        Picture book       Simply Red      EU         Elektra    7.2  1985   \n",
      "24                 Red   The Communards      UK          London    7.8  1987   \n",
      "25    Unchain my heart       Joe Cocker     USA             EMI    8.2  1987   \n",
      "\n",
      "      Check  Age  New  \n",
      "0   NewData   35   33  \n",
      "1   NewData   32   30  \n",
      "2   NewData   38   36  \n",
      "3   NewData   30   28  \n",
      "4   NewData   23   21  \n",
      "5   NewData   22   20  \n",
      "6   NewData   47   45  \n",
      "7   NewData   30   28  \n",
      "8   NewData   24   22  \n",
      "9   NewData   33   31  \n",
      "10  NewData   25   23  \n",
      "11  NewData   21   19  \n",
      "12  NewData   25   23  \n",
      "13  NewData   23   21  \n",
      "14  NewData   49   47  \n",
      "15  NewData   24   22  \n",
      "16  NewData   30   28  \n",
      "17  NewData   32   30  \n",
      "18  NewData   33   31  \n",
      "19  NewData   37   35  \n",
      "20  NewData   37   35  \n",
      "21  NewData   29   27  \n",
      "22  NewData   33   31  \n",
      "23  NewData   35   33  \n",
      "24  NewData   33   31  \n",
      "25  NewData   33   31  \n"
     ]
    }
   ],
   "source": [
    "df['New']=2018-df['Year']\n",
    "print(df)"
   ]
  },
  {
   "cell_type": "markdown",
   "metadata": {},
   "source": [
    "create a new column called Status where the value is based on condition<br>\n",
    "if df.age is greater than 30 "
   ]
  },
  {
   "cell_type": "code",
   "execution_count": 37,
   "metadata": {},
   "outputs": [
    {
     "name": "stdout",
     "output_type": "stream",
     "text": [
      "                 Title           Artist Country         Company  Price  Year  \\\n",
      "0    Empire, Burlesque        Bob Dylan     USA        Columbia   10.9  1985   \n",
      "1      Hide your heart     Bonnie Tyler      UK     CBS Records    9.9  1988   \n",
      "2        Greatest Hits     Dolly Parton     USA             RCA    9.9  1982   \n",
      "3        Got the blues       Gary Moore     NaN  Virgin records   10.2  1990   \n",
      "4                 Eros  Eros Ramazzotti      EU             BMG    9.9  1997   \n",
      "5       One night only         Bee Gees      UK         Polydor   10.9  1998   \n",
      "6       Sylvias Mother          Dr.Hook      UK             CBS    8.1  1973   \n",
      "7           Maggie May      Rod Stewart      UK        Pickwick    8.5  1990   \n",
      "8              Romanza   Andrea Bocelli      EU         Polydor    NaN  1996   \n",
      "9   Man loves, a woman     Percy Sledge     USA        Atlantic    8.7  1987   \n",
      "10         Black angel      Savage Rose      EU            Mega   10.9  1995   \n",
      "11     Grammy Nominees             Many     USA          Grammy   10.2  1999   \n",
      "12  For the good times     Kenny Rogers      UK    Mucik Master    8.7  1995   \n",
      "13    Big Willie style       Will Smith     USA        Columbia    9.9  1997   \n",
      "14        Tupelo Honey     Van Morrison      UK         Polydor    8.2  1971   \n",
      "15          Soulsville        Jorn Hoel     NaN             WEA    7.9  1996   \n",
      "16    The very best of      Cat Stevens      UK          Island    8.9  1990   \n",
      "17                Stop        Sam Brown      UK         A and M    8.9  1988   \n",
      "18     Bridge of Spies            T'Pau      UK           Siren    7.9  1987   \n",
      "19      Private Dancer      Tina Turner      UK         Capitol    8.9  1983   \n",
      "20      Midt om natten       Kim Larsen      EU          Medley    7.8  1983   \n",
      "21   Pavarotti Concert   Lucy Pavarotti      UK           DECCA    9.9  1991   \n",
      "22     Dock of the bay     Otis Redding     USA        Atlantic    7.9  1987   \n",
      "23        Picture book       Simply Red      EU         Elektra    7.2  1985   \n",
      "24                 Red   The Communards      UK          London    7.8  1987   \n",
      "25    Unchain my heart       Joe Cocker     USA             EMI    8.2  1987   \n",
      "\n",
      "      Check  Age  New       Status  \n",
      "0   NewData   35   33  GoldenOldie  \n",
      "1   NewData   32   30  GoldenOldie  \n",
      "2   NewData   38   36  GoldenOldie  \n",
      "3   NewData   30   28  GoldenOldie  \n",
      "4   NewData   23   21    RecentHit  \n",
      "5   NewData   22   20    RecentHit  \n",
      "6   NewData   47   45  GoldenOldie  \n",
      "7   NewData   30   28  GoldenOldie  \n",
      "8   NewData   24   22    RecentHit  \n",
      "9   NewData   33   31  GoldenOldie  \n",
      "10  NewData   25   23    RecentHit  \n",
      "11  NewData   21   19    RecentHit  \n",
      "12  NewData   25   23    RecentHit  \n",
      "13  NewData   23   21    RecentHit  \n",
      "14  NewData   49   47  GoldenOldie  \n",
      "15  NewData   24   22    RecentHit  \n",
      "16  NewData   30   28  GoldenOldie  \n",
      "17  NewData   32   30  GoldenOldie  \n",
      "18  NewData   33   31  GoldenOldie  \n",
      "19  NewData   37   35  GoldenOldie  \n",
      "20  NewData   37   35  GoldenOldie  \n",
      "21  NewData   29   27    RecentHit  \n",
      "22  NewData   33   31  GoldenOldie  \n",
      "23  NewData   35   33  GoldenOldie  \n",
      "24  NewData   33   31  GoldenOldie  \n",
      "25  NewData   33   31  GoldenOldie  \n"
     ]
    }
   ],
   "source": [
    "df = df.assign(Status=\"\") \n",
    "df['Status'] = np.where(df['Age']>=30, 'GoldenOldie', 'RecentHit')\n",
    "print(df)"
   ]
  },
  {
   "cell_type": "markdown",
   "metadata": {},
   "source": [
    "drop columns<br>\n",
    "axis : {0 or â€˜indexâ€™, 1 or â€˜columnsâ€™}, default 0<br>\n",
    "0 or â€˜indexâ€™: apply function to each column<br>\n",
    "1 or â€˜columnsâ€™: apply function to each row"
   ]
  },
  {
   "cell_type": "code",
   "execution_count": 38,
   "metadata": {},
   "outputs": [
    {
     "name": "stdout",
     "output_type": "stream",
     "text": [
      "<class 'pandas.core.frame.DataFrame'>\n",
      "RangeIndex: 26 entries, 0 to 25\n",
      "Data columns (total 9 columns):\n",
      " #   Column   Non-Null Count  Dtype  \n",
      "---  ------   --------------  -----  \n",
      " 0   Title    26 non-null     object \n",
      " 1   Artist   26 non-null     object \n",
      " 2   Country  24 non-null     object \n",
      " 3   Price    25 non-null     float64\n",
      " 4   Year     26 non-null     int64  \n",
      " 5   Check    26 non-null     object \n",
      " 6   Age      26 non-null     int64  \n",
      " 7   New      26 non-null     int64  \n",
      " 8   Status   26 non-null     object \n",
      "dtypes: float64(1), int64(3), object(5)\n",
      "memory usage: 2.0+ KB\n",
      "None\n",
      "                 Title           Artist Country  Price  Year    Check  Age  \\\n",
      "0    Empire, Burlesque        Bob Dylan     USA   10.9  1985  NewData   35   \n",
      "1      Hide your heart     Bonnie Tyler      UK    9.9  1988  NewData   32   \n",
      "2        Greatest Hits     Dolly Parton     USA    9.9  1982  NewData   38   \n",
      "3        Got the blues       Gary Moore     NaN   10.2  1990  NewData   30   \n",
      "4                 Eros  Eros Ramazzotti      EU    9.9  1997  NewData   23   \n",
      "5       One night only         Bee Gees      UK   10.9  1998  NewData   22   \n",
      "6       Sylvias Mother          Dr.Hook      UK    8.1  1973  NewData   47   \n",
      "7           Maggie May      Rod Stewart      UK    8.5  1990  NewData   30   \n",
      "8              Romanza   Andrea Bocelli      EU    NaN  1996  NewData   24   \n",
      "9   Man loves, a woman     Percy Sledge     USA    8.7  1987  NewData   33   \n",
      "10         Black angel      Savage Rose      EU   10.9  1995  NewData   25   \n",
      "11     Grammy Nominees             Many     USA   10.2  1999  NewData   21   \n",
      "12  For the good times     Kenny Rogers      UK    8.7  1995  NewData   25   \n",
      "13    Big Willie style       Will Smith     USA    9.9  1997  NewData   23   \n",
      "14        Tupelo Honey     Van Morrison      UK    8.2  1971  NewData   49   \n",
      "15          Soulsville        Jorn Hoel     NaN    7.9  1996  NewData   24   \n",
      "16    The very best of      Cat Stevens      UK    8.9  1990  NewData   30   \n",
      "17                Stop        Sam Brown      UK    8.9  1988  NewData   32   \n",
      "18     Bridge of Spies            T'Pau      UK    7.9  1987  NewData   33   \n",
      "19      Private Dancer      Tina Turner      UK    8.9  1983  NewData   37   \n",
      "20      Midt om natten       Kim Larsen      EU    7.8  1983  NewData   37   \n",
      "21   Pavarotti Concert   Lucy Pavarotti      UK    9.9  1991  NewData   29   \n",
      "22     Dock of the bay     Otis Redding     USA    7.9  1987  NewData   33   \n",
      "23        Picture book       Simply Red      EU    7.2  1985  NewData   35   \n",
      "24                 Red   The Communards      UK    7.8  1987  NewData   33   \n",
      "25    Unchain my heart       Joe Cocker     USA    8.2  1987  NewData   33   \n",
      "\n",
      "    New       Status  \n",
      "0    33  GoldenOldie  \n",
      "1    30  GoldenOldie  \n",
      "2    36  GoldenOldie  \n",
      "3    28  GoldenOldie  \n",
      "4    21    RecentHit  \n",
      "5    20    RecentHit  \n",
      "6    45  GoldenOldie  \n",
      "7    28  GoldenOldie  \n",
      "8    22    RecentHit  \n",
      "9    31  GoldenOldie  \n",
      "10   23    RecentHit  \n",
      "11   19    RecentHit  \n",
      "12   23    RecentHit  \n",
      "13   21    RecentHit  \n",
      "14   47  GoldenOldie  \n",
      "15   22    RecentHit  \n",
      "16   28  GoldenOldie  \n",
      "17   30  GoldenOldie  \n",
      "18   31  GoldenOldie  \n",
      "19   35  GoldenOldie  \n",
      "20   35  GoldenOldie  \n",
      "21   27    RecentHit  \n",
      "22   31  GoldenOldie  \n",
      "23   33  GoldenOldie  \n",
      "24   31  GoldenOldie  \n",
      "25   31  GoldenOldie  \n"
     ]
    }
   ],
   "source": [
    "df = df.drop('Company', axis=1)\n",
    "print(df.info())\n",
    "print(df)"
   ]
  },
  {
   "cell_type": "markdown",
   "metadata": {},
   "source": [
    "drop / delete row based on RowIndex"
   ]
  },
  {
   "cell_type": "code",
   "execution_count": 39,
   "metadata": {},
   "outputs": [
    {
     "name": "stdout",
     "output_type": "stream",
     "text": [
      "                 Title           Artist Country  Price  Year    Check  Age  \\\n",
      "0    Empire, Burlesque        Bob Dylan     USA   10.9  1985  NewData   35   \n",
      "1      Hide your heart     Bonnie Tyler      UK    9.9  1988  NewData   32   \n",
      "2        Greatest Hits     Dolly Parton     USA    9.9  1982  NewData   38   \n",
      "3        Got the blues       Gary Moore     NaN   10.2  1990  NewData   30   \n",
      "4                 Eros  Eros Ramazzotti      EU    9.9  1997  NewData   23   \n",
      "5       One night only         Bee Gees      UK   10.9  1998  NewData   22   \n",
      "6       Sylvias Mother          Dr.Hook      UK    8.1  1973  NewData   47   \n",
      "7           Maggie May      Rod Stewart      UK    8.5  1990  NewData   30   \n",
      "8              Romanza   Andrea Bocelli      EU    NaN  1996  NewData   24   \n",
      "9   Man loves, a woman     Percy Sledge     USA    8.7  1987  NewData   33   \n",
      "10         Black angel      Savage Rose      EU   10.9  1995  NewData   25   \n",
      "11     Grammy Nominees             Many     USA   10.2  1999  NewData   21   \n",
      "12  For the good times     Kenny Rogers      UK    8.7  1995  NewData   25   \n",
      "13    Big Willie style       Will Smith     USA    9.9  1997  NewData   23   \n",
      "14        Tupelo Honey     Van Morrison      UK    8.2  1971  NewData   49   \n",
      "15          Soulsville        Jorn Hoel     NaN    7.9  1996  NewData   24   \n",
      "16    The very best of      Cat Stevens      UK    8.9  1990  NewData   30   \n",
      "17                Stop        Sam Brown      UK    8.9  1988  NewData   32   \n",
      "18     Bridge of Spies            T'Pau      UK    7.9  1987  NewData   33   \n",
      "19      Private Dancer      Tina Turner      UK    8.9  1983  NewData   37   \n",
      "20      Midt om natten       Kim Larsen      EU    7.8  1983  NewData   37   \n",
      "21   Pavarotti Concert   Lucy Pavarotti      UK    9.9  1991  NewData   29   \n",
      "22     Dock of the bay     Otis Redding     USA    7.9  1987  NewData   33   \n",
      "23        Picture book       Simply Red      EU    7.2  1985  NewData   35   \n",
      "24                 Red   The Communards      UK    7.8  1987  NewData   33   \n",
      "25    Unchain my heart       Joe Cocker     USA    8.2  1987  NewData   33   \n",
      "\n",
      "    New       Status  \n",
      "0    33  GoldenOldie  \n",
      "1    30  GoldenOldie  \n",
      "2    36  GoldenOldie  \n",
      "3    28  GoldenOldie  \n",
      "4    21    RecentHit  \n",
      "5    20    RecentHit  \n",
      "6    45  GoldenOldie  \n",
      "7    28  GoldenOldie  \n",
      "8    22    RecentHit  \n",
      "9    31  GoldenOldie  \n",
      "10   23    RecentHit  \n",
      "11   19    RecentHit  \n",
      "12   23    RecentHit  \n",
      "13   21    RecentHit  \n",
      "14   47  GoldenOldie  \n",
      "15   22    RecentHit  \n",
      "16   28  GoldenOldie  \n",
      "17   30  GoldenOldie  \n",
      "18   31  GoldenOldie  \n",
      "19   35  GoldenOldie  \n",
      "20   35  GoldenOldie  \n",
      "21   27    RecentHit  \n",
      "22   31  GoldenOldie  \n",
      "23   33  GoldenOldie  \n",
      "24   31  GoldenOldie  \n",
      "25   31  GoldenOldie  \n",
      "                 Title           Artist Country  Price  Year    Check  Age  \\\n",
      "0    Empire, Burlesque        Bob Dylan     USA   10.9  1985  NewData   35   \n",
      "1      Hide your heart     Bonnie Tyler      UK    9.9  1988  NewData   32   \n",
      "3        Got the blues       Gary Moore     NaN   10.2  1990  NewData   30   \n",
      "4                 Eros  Eros Ramazzotti      EU    9.9  1997  NewData   23   \n",
      "5       One night only         Bee Gees      UK   10.9  1998  NewData   22   \n",
      "6       Sylvias Mother          Dr.Hook      UK    8.1  1973  NewData   47   \n",
      "7           Maggie May      Rod Stewart      UK    8.5  1990  NewData   30   \n",
      "8              Romanza   Andrea Bocelli      EU    NaN  1996  NewData   24   \n",
      "9   Man loves, a woman     Percy Sledge     USA    8.7  1987  NewData   33   \n",
      "10         Black angel      Savage Rose      EU   10.9  1995  NewData   25   \n",
      "11     Grammy Nominees             Many     USA   10.2  1999  NewData   21   \n",
      "12  For the good times     Kenny Rogers      UK    8.7  1995  NewData   25   \n",
      "13    Big Willie style       Will Smith     USA    9.9  1997  NewData   23   \n",
      "14        Tupelo Honey     Van Morrison      UK    8.2  1971  NewData   49   \n",
      "15          Soulsville        Jorn Hoel     NaN    7.9  1996  NewData   24   \n",
      "16    The very best of      Cat Stevens      UK    8.9  1990  NewData   30   \n",
      "17                Stop        Sam Brown      UK    8.9  1988  NewData   32   \n",
      "18     Bridge of Spies            T'Pau      UK    7.9  1987  NewData   33   \n",
      "19      Private Dancer      Tina Turner      UK    8.9  1983  NewData   37   \n",
      "20      Midt om natten       Kim Larsen      EU    7.8  1983  NewData   37   \n",
      "21   Pavarotti Concert   Lucy Pavarotti      UK    9.9  1991  NewData   29   \n",
      "22     Dock of the bay     Otis Redding     USA    7.9  1987  NewData   33   \n",
      "23        Picture book       Simply Red      EU    7.2  1985  NewData   35   \n",
      "24                 Red   The Communards      UK    7.8  1987  NewData   33   \n",
      "25    Unchain my heart       Joe Cocker     USA    8.2  1987  NewData   33   \n",
      "\n",
      "    New       Status  \n",
      "0    33  GoldenOldie  \n",
      "1    30  GoldenOldie  \n",
      "3    28  GoldenOldie  \n",
      "4    21    RecentHit  \n",
      "5    20    RecentHit  \n",
      "6    45  GoldenOldie  \n",
      "7    28  GoldenOldie  \n",
      "8    22    RecentHit  \n",
      "9    31  GoldenOldie  \n",
      "10   23    RecentHit  \n",
      "11   19    RecentHit  \n",
      "12   23    RecentHit  \n",
      "13   21    RecentHit  \n",
      "14   47  GoldenOldie  \n",
      "15   22    RecentHit  \n",
      "16   28  GoldenOldie  \n",
      "17   30  GoldenOldie  \n",
      "18   31  GoldenOldie  \n",
      "19   35  GoldenOldie  \n",
      "20   35  GoldenOldie  \n",
      "21   27    RecentHit  \n",
      "22   31  GoldenOldie  \n",
      "23   33  GoldenOldie  \n",
      "24   31  GoldenOldie  \n",
      "25   31  GoldenOldie  \n",
      "               Title           Artist Country  Price  Year    Check  Age  New  \\\n",
      "0  Empire, Burlesque        Bob Dylan     USA   10.9  1985  NewData   35   33   \n",
      "1    Hide your heart     Bonnie Tyler      UK    9.9  1988  NewData   32   30   \n",
      "3      Got the blues       Gary Moore     NaN   10.2  1990  NewData   30   28   \n",
      "4               Eros  Eros Ramazzotti      EU    9.9  1997  NewData   23   21   \n",
      "5     One night only         Bee Gees      UK   10.9  1998  NewData   22   20   \n",
      "\n",
      "        Status  \n",
      "0  GoldenOldie  \n",
      "1  GoldenOldie  \n",
      "3  GoldenOldie  \n",
      "4    RecentHit  \n",
      "5    RecentHit  \n",
      "           Title      Artist Country  Price  Year    Check  Age  New  \\\n",
      "3  Got the blues  Gary Moore     NaN   10.2  1990  NewData   30   28   \n",
      "\n",
      "        Status  \n",
      "3  GoldenOldie  \n"
     ]
    }
   ],
   "source": [
    "print(df)\n",
    "dfnew = df.drop(df.index[2])\n",
    "print(dfnew)\n",
    "print(dfnew.head())\n",
    "print(dfnew[2:3])"
   ]
  },
  {
   "cell_type": "markdown",
   "metadata": {},
   "source": [
    "drop / delete row based on conditions"
   ]
  },
  {
   "cell_type": "code",
   "execution_count": 40,
   "metadata": {},
   "outputs": [
    {
     "name": "stdout",
     "output_type": "stream",
     "text": [
      "                 Title           Artist Country  Price  Year    Check  Age  \\\n",
      "0    Empire, Burlesque        Bob Dylan     USA   10.9  1985  NewData   35   \n",
      "1      Hide your heart     Bonnie Tyler      UK    9.9  1988  NewData   32   \n",
      "2        Greatest Hits     Dolly Parton     USA    9.9  1982  NewData   38   \n",
      "3        Got the blues       Gary Moore     NaN   10.2  1990  NewData   30   \n",
      "4                 Eros  Eros Ramazzotti      EU    9.9  1997  NewData   23   \n",
      "5       One night only         Bee Gees      UK   10.9  1998  NewData   22   \n",
      "6       Sylvias Mother          Dr.Hook      UK    8.1  1973  NewData   47   \n",
      "7           Maggie May      Rod Stewart      UK    8.5  1990  NewData   30   \n",
      "8              Romanza   Andrea Bocelli      EU    NaN  1996  NewData   24   \n",
      "9   Man loves, a woman     Percy Sledge     USA    8.7  1987  NewData   33   \n",
      "10         Black angel      Savage Rose      EU   10.9  1995  NewData   25   \n",
      "11     Grammy Nominees             Many     USA   10.2  1999  NewData   21   \n",
      "12  For the good times     Kenny Rogers      UK    8.7  1995  NewData   25   \n",
      "13    Big Willie style       Will Smith     USA    9.9  1997  NewData   23   \n",
      "14        Tupelo Honey     Van Morrison      UK    8.2  1971  NewData   49   \n",
      "15          Soulsville        Jorn Hoel     NaN    7.9  1996  NewData   24   \n",
      "16    The very best of      Cat Stevens      UK    8.9  1990  NewData   30   \n",
      "17                Stop        Sam Brown      UK    8.9  1988  NewData   32   \n",
      "18     Bridge of Spies            T'Pau      UK    7.9  1987  NewData   33   \n",
      "19      Private Dancer      Tina Turner      UK    8.9  1983  NewData   37   \n",
      "20      Midt om natten       Kim Larsen      EU    7.8  1983  NewData   37   \n",
      "21   Pavarotti Concert   Lucy Pavarotti      UK    9.9  1991  NewData   29   \n",
      "22     Dock of the bay     Otis Redding     USA    7.9  1987  NewData   33   \n",
      "23        Picture book       Simply Red      EU    7.2  1985  NewData   35   \n",
      "25    Unchain my heart       Joe Cocker     USA    8.2  1987  NewData   33   \n",
      "\n",
      "    New       Status  \n",
      "0    33  GoldenOldie  \n",
      "1    30  GoldenOldie  \n",
      "2    36  GoldenOldie  \n",
      "3    28  GoldenOldie  \n",
      "4    21    RecentHit  \n",
      "5    20    RecentHit  \n",
      "6    45  GoldenOldie  \n",
      "7    28  GoldenOldie  \n",
      "8    22    RecentHit  \n",
      "9    31  GoldenOldie  \n",
      "10   23    RecentHit  \n",
      "11   19    RecentHit  \n",
      "12   23    RecentHit  \n",
      "13   21    RecentHit  \n",
      "14   47  GoldenOldie  \n",
      "15   22    RecentHit  \n",
      "16   28  GoldenOldie  \n",
      "17   30  GoldenOldie  \n",
      "18   31  GoldenOldie  \n",
      "19   35  GoldenOldie  \n",
      "20   35  GoldenOldie  \n",
      "21   27    RecentHit  \n",
      "22   31  GoldenOldie  \n",
      "23   33  GoldenOldie  \n",
      "25   31  GoldenOldie  \n"
     ]
    }
   ],
   "source": [
    "dfnew = df[ df.Title != 'Red' ]\n",
    "print(dfnew)"
   ]
  },
  {
   "cell_type": "markdown",
   "metadata": {},
   "source": [
    "rename column name<br>\n",
    "rename the dataframe's column names with a new set of column names "
   ]
  },
  {
   "cell_type": "code",
   "execution_count": 43,
   "metadata": {},
   "outputs": [
    {
     "name": "stdout",
     "output_type": "stream",
     "text": [
      "<class 'pandas.core.frame.DataFrame'>\n",
      "RangeIndex: 26 entries, 0 to 25\n",
      "Data columns (total 8 columns):\n",
      " #   Column   Non-Null Count  Dtype  \n",
      "---  ------   --------------  -----  \n",
      " 0   Title    26 non-null     object \n",
      " 1   Artist   26 non-null     object \n",
      " 2   Country  24 non-null     object \n",
      " 3   Company  26 non-null     object \n",
      " 4   Price    25 non-null     float64\n",
      " 5   Year     26 non-null     int64  \n",
      " 6   Age      26 non-null     int64  \n",
      " 7   Status   26 non-null     object \n",
      "dtypes: float64(1), int64(2), object(5)\n",
      "memory usage: 1.8+ KB\n"
     ]
    }
   ],
   "source": [
    "df = pd.read_csv('..\\dataset/Catalog.csv')\n",
    "df = df.assign(Age=2020-df['Year'])\n",
    "df['Status'] = np.where(df['Age']>=30, 'GoldenOldie', 'RecentHit')\n",
    "df.info()"
   ]
  },
  {
   "cell_type": "code",
   "execution_count": 44,
   "metadata": {},
   "outputs": [
    {
     "name": "stdout",
     "output_type": "stream",
     "text": [
      "<class 'pandas.core.frame.DataFrame'>\n",
      "RangeIndex: 26 entries, 0 to 25\n",
      "Data columns (total 8 columns):\n",
      " #   Column   Non-Null Count  Dtype  \n",
      "---  ------   --------------  -----  \n",
      " 0   title    26 non-null     object \n",
      " 1   artist   26 non-null     object \n",
      " 2   country  24 non-null     object \n",
      " 3   company  26 non-null     object \n",
      " 4   price    25 non-null     float64\n",
      " 5   year     26 non-null     int64  \n",
      " 6   age      26 non-null     int64  \n",
      " 7   label    26 non-null     object \n",
      "dtypes: float64(1), int64(2), object(5)\n",
      "memory usage: 1.8+ KB\n"
     ]
    }
   ],
   "source": [
    "ColNames=['title', 'artist', 'country', 'company', 'price', 'year', 'age', 'label']\n",
    "df.columns = ColNames\n",
    "df.info()"
   ]
  },
  {
   "cell_type": "markdown",
   "metadata": {},
   "source": [
    "rename specific column name<br>\n",
    "rename the dataframe's column names with a new set of column names "
   ]
  },
  {
   "cell_type": "code",
   "execution_count": 45,
   "metadata": {},
   "outputs": [
    {
     "name": "stdout",
     "output_type": "stream",
     "text": [
      "<class 'pandas.core.frame.DataFrame'>\n",
      "RangeIndex: 26 entries, 0 to 25\n",
      "Data columns (total 8 columns):\n",
      " #   Column   Non-Null Count  Dtype  \n",
      "---  ------   --------------  -----  \n",
      " 0   title    26 non-null     object \n",
      " 1   artist   26 non-null     object \n",
      " 2   country  24 non-null     object \n",
      " 3   company  26 non-null     object \n",
      " 4   price    25 non-null     float64\n",
      " 5   year     26 non-null     int64  \n",
      " 6   age      26 non-null     int64  \n",
      " 7   status   26 non-null     object \n",
      "dtypes: float64(1), int64(2), object(5)\n",
      "memory usage: 1.8+ KB\n"
     ]
    }
   ],
   "source": [
    "df=df.rename(columns = {'label':'status'})\n",
    "df.info()"
   ]
  },
  {
   "cell_type": "markdown",
   "metadata": {},
   "source": [
    "save daqtaframe to csv"
   ]
  },
  {
   "cell_type": "code",
   "execution_count": 46,
   "metadata": {},
   "outputs": [],
   "source": [
    "df.to_csv('..\\dataset/Catalog.csv')\n",
    "#df.to_csv('./data/Sample.csv', index=False)"
   ]
  },
  {
   "cell_type": "markdown",
   "metadata": {},
   "source": [
    "rename column name<br>\n",
    "rename the dataframe's column names with a new set of column names "
   ]
  },
  {
   "cell_type": "code",
   "execution_count": 49,
   "metadata": {},
   "outputs": [
    {
     "name": "stdout",
     "output_type": "stream",
     "text": [
      "<class 'pandas.core.frame.DataFrame'>\n",
      "RangeIndex: 26 entries, 0 to 25\n",
      "Data columns (total 11 columns):\n",
      " #   Column      Non-Null Count  Dtype  \n",
      "---  ------      --------------  -----  \n",
      " 0   Unnamed: 0  26 non-null     int64  \n",
      " 1   title       26 non-null     object \n",
      " 2   artist      26 non-null     object \n",
      " 3   country     24 non-null     object \n",
      " 4   company     26 non-null     object \n",
      " 5   price       25 non-null     float64\n",
      " 6   year        26 non-null     int64  \n",
      " 7   age         26 non-null     int64  \n",
      " 8   status      26 non-null     object \n",
      " 9   Age         26 non-null     int64  \n",
      " 10  Status      26 non-null     object \n",
      "dtypes: float64(1), int64(4), object(6)\n",
      "memory usage: 2.4+ KB\n"
     ]
    }
   ],
   "source": [
    "df = pd.read_csv('..\\dataset/Catalog.csv')\n",
    "df = df.assign(Age=2020-df['year'])\n",
    "df['Status'] = np.where(df['Age']>=30, 'GoldenOldie', 'RecentHit')\n",
    "df.info()"
   ]
  },
  {
   "cell_type": "markdown",
   "metadata": {},
   "source": [
    "see the top & bottom rows of the frame"
   ]
  },
  {
   "cell_type": "code",
   "execution_count": 50,
   "metadata": {},
   "outputs": [
    {
     "name": "stdout",
     "output_type": "stream",
     "text": [
      "   Unnamed: 0              title        artist country      company  price  \\\n",
      "0           0  Empire, Burlesque     Bob Dylan     USA     Columbia   10.9   \n",
      "1           1    Hide your heart  Bonnie Tyler      UK  CBS Records    9.9   \n",
      "2           2      Greatest Hits  Dolly Parton     USA          RCA    9.9   \n",
      "\n",
      "   year  age       status  Age       Status  \n",
      "0  1985   35  GoldenOldie   35  GoldenOldie  \n",
      "1  1988   32  GoldenOldie   32  GoldenOldie  \n",
      "2  1982   38  GoldenOldie   38  GoldenOldie  \n",
      "    Unnamed: 0             title          artist country  company  price  \\\n",
      "23          23      Picture book      Simply Red      EU  Elektra    7.2   \n",
      "24          24               Red  The Communards      UK   London    7.8   \n",
      "25          25  Unchain my heart      Joe Cocker     USA      EMI    8.2   \n",
      "\n",
      "    year  age       status  Age       Status  \n",
      "23  1985   35  GoldenOldie   35  GoldenOldie  \n",
      "24  1987   33  GoldenOldie   33  GoldenOldie  \n",
      "25  1987   33  GoldenOldie   33  GoldenOldie  \n"
     ]
    }
   ],
   "source": [
    "print(df.head(3))\n",
    "print(df.tail(3))"
   ]
  },
  {
   "cell_type": "markdown",
   "metadata": {},
   "source": [
    "check Country Count"
   ]
  },
  {
   "cell_type": "code",
   "execution_count": 53,
   "metadata": {},
   "outputs": [
    {
     "name": "stdout",
     "output_type": "stream",
     "text": [
      "country\n",
      "EU      5\n",
      "UK     12\n",
      "USA     7\n",
      "Name: company, dtype: int64\n",
      "\n",
      "company\n",
      "A and M           1\n",
      "Atlantic          2\n",
      "BMG               1\n",
      "CBS               1\n",
      "CBS Records       1\n",
      "Capitol           1\n",
      "Columbia          2\n",
      "DECCA             1\n",
      "EMI               1\n",
      "Elektra           1\n",
      "Grammy            1\n",
      "Island            1\n",
      "London            1\n",
      "Medley            1\n",
      "Mega              1\n",
      "Mucik Master      1\n",
      "Pickwick          1\n",
      "Polydor           3\n",
      "RCA               1\n",
      "Siren             1\n",
      "Virgin records    0\n",
      "WEA               0\n",
      "Name: country, dtype: int64\n",
      "\n"
     ]
    }
   ],
   "source": [
    "print(df.groupby(['country'])['company'].count())\n",
    "print(\"\")\n",
    "print(df.groupby(['company'])['country'].count())\n",
    "print(\"\")"
   ]
  },
  {
   "cell_type": "markdown",
   "metadata": {},
   "source": [
    "check Year Count"
   ]
  },
  {
   "cell_type": "code",
   "execution_count": 54,
   "metadata": {},
   "outputs": [
    {
     "name": "stdout",
     "output_type": "stream",
     "text": [
      "year\n",
      "1971    1\n",
      "1973    1\n",
      "1982    1\n",
      "1983    2\n",
      "1985    2\n",
      "1987    5\n",
      "1988    2\n",
      "1990    3\n",
      "1991    1\n",
      "1995    2\n",
      "1996    2\n",
      "1997    2\n",
      "1998    1\n",
      "1999    1\n",
      "Name: title, dtype: int64\n",
      "\n"
     ]
    }
   ],
   "source": [
    "print(df.groupby(['year'])['title'].count())\n",
    "print(\"\")"
   ]
  },
  {
   "cell_type": "markdown",
   "metadata": {},
   "source": [
    "check Country + Year Count"
   ]
  },
  {
   "cell_type": "code",
   "execution_count": 56,
   "metadata": {},
   "outputs": [
    {
     "name": "stdout",
     "output_type": "stream",
     "text": [
      "country  year\n",
      "EU       1983    1\n",
      "         1985    1\n",
      "         1995    1\n",
      "         1996    1\n",
      "         1997    1\n",
      "UK       1971    1\n",
      "         1973    1\n",
      "         1983    1\n",
      "         1987    2\n",
      "         1988    2\n",
      "         1990    2\n",
      "         1991    1\n",
      "         1995    1\n",
      "         1998    1\n",
      "USA      1982    1\n",
      "         1985    1\n",
      "         1987    3\n",
      "         1997    1\n",
      "         1999    1\n",
      "Name: title, dtype: int64\n",
      "\n"
     ]
    }
   ],
   "source": [
    "print(df.groupby(['country','year'])['title'].count())\n",
    "print(\"\")"
   ]
  },
  {
   "cell_type": "markdown",
   "metadata": {},
   "source": [
    "selective update"
   ]
  },
  {
   "cell_type": "code",
   "execution_count": 57,
   "metadata": {},
   "outputs": [
    {
     "name": "stdout",
     "output_type": "stream",
     "text": [
      "    Unnamed: 0               title           artist            country  \\\n",
      "0            0   Empire, Burlesque        Bob Dylan   United States      \n",
      "1            1     Hide your heart     Bonnie Tyler  United Kingdom      \n",
      "2            2       Greatest Hits     Dolly Parton   United States      \n",
      "3            3       Got the blues       Gary Moore                NaN   \n",
      "4            4                Eros  Eros Ramazzotti  Europe Union        \n",
      "5            5      One night only         Bee Gees  United Kingdom      \n",
      "6            6      Sylvias Mother          Dr.Hook  United Kingdom      \n",
      "7            7          Maggie May      Rod Stewart  United Kingdom      \n",
      "8            8             Romanza   Andrea Bocelli  Europe Union        \n",
      "9            9  Man loves, a woman     Percy Sledge   United States      \n",
      "10          10         Black angel      Savage Rose  Europe Union        \n",
      "11          11     Grammy Nominees             Many   United States      \n",
      "12          12  For the good times     Kenny Rogers  United Kingdom      \n",
      "13          13    Big Willie style       Will Smith   United States      \n",
      "14          14        Tupelo Honey     Van Morrison  United Kingdom      \n",
      "15          15          Soulsville        Jorn Hoel                NaN   \n",
      "16          16    The very best of      Cat Stevens  United Kingdom      \n",
      "17          17                Stop        Sam Brown  United Kingdom      \n",
      "18          18     Bridge of Spies            T'Pau  United Kingdom      \n",
      "19          19      Private Dancer      Tina Turner  United Kingdom      \n",
      "20          20      Midt om natten       Kim Larsen  Europe Union        \n",
      "21          21   Pavarotti Concert   Lucy Pavarotti  United Kingdom      \n",
      "22          22     Dock of the bay     Otis Redding   United States      \n",
      "23          23        Picture book       Simply Red  Europe Union        \n",
      "24          24                 Red   The Communards  United Kingdom      \n",
      "25          25    Unchain my heart       Joe Cocker   United States      \n",
      "\n",
      "           company  price  year  age       status  Age       Status  \n",
      "0         Columbia   10.9  1985   35  GoldenOldie   35  GoldenOldie  \n",
      "1      CBS Records    9.9  1988   32  GoldenOldie   32  GoldenOldie  \n",
      "2              RCA    9.9  1982   38  GoldenOldie   38  GoldenOldie  \n",
      "3   Virgin records   10.2  1990   30  GoldenOldie   30  GoldenOldie  \n",
      "4              BMG    9.9  1997   23    RecentHit   23    RecentHit  \n",
      "5          Polydor   10.9  1998   22    RecentHit   22    RecentHit  \n",
      "6              CBS    8.1  1973   47  GoldenOldie   47  GoldenOldie  \n",
      "7         Pickwick    8.5  1990   30  GoldenOldie   30  GoldenOldie  \n",
      "8          Polydor    NaN  1996   24    RecentHit   24    RecentHit  \n",
      "9         Atlantic    8.7  1987   33  GoldenOldie   33  GoldenOldie  \n",
      "10            Mega   10.9  1995   25    RecentHit   25    RecentHit  \n",
      "11          Grammy   10.2  1999   21    RecentHit   21    RecentHit  \n",
      "12    Mucik Master    8.7  1995   25    RecentHit   25    RecentHit  \n",
      "13        Columbia    9.9  1997   23    RecentHit   23    RecentHit  \n",
      "14         Polydor    8.2  1971   49  GoldenOldie   49  GoldenOldie  \n",
      "15             WEA    7.9  1996   24    RecentHit   24    RecentHit  \n",
      "16          Island    8.9  1990   30  GoldenOldie   30  GoldenOldie  \n",
      "17         A and M    8.9  1988   32  GoldenOldie   32  GoldenOldie  \n",
      "18           Siren    7.9  1987   33  GoldenOldie   33  GoldenOldie  \n",
      "19         Capitol    8.9  1983   37  GoldenOldie   37  GoldenOldie  \n",
      "20          Medley    7.8  1983   37  GoldenOldie   37  GoldenOldie  \n",
      "21           DECCA    9.9  1991   29    RecentHit   29    RecentHit  \n",
      "22        Atlantic    7.9  1987   33  GoldenOldie   33  GoldenOldie  \n",
      "23         Elektra    7.2  1985   35  GoldenOldie   35  GoldenOldie  \n",
      "24          London    7.8  1987   33  GoldenOldie   33  GoldenOldie  \n",
      "25             EMI    8.2  1987   33  GoldenOldie   33  GoldenOldie  \n"
     ]
    }
   ],
   "source": [
    "df['country'] = np.where(df['country']=='UK','United Kingdom   ', df['country'])\n",
    "df['country'] = np.where(df['country']=='USA','United States   ', df['country'])\n",
    "df['country'] = np.where(df['country']=='EU','Europe Union     ', df['country'])\n",
    "print(df)"
   ]
  },
  {
   "cell_type": "markdown",
   "metadata": {},
   "source": [
    "check Country Count"
   ]
  },
  {
   "cell_type": "code",
   "execution_count": 58,
   "metadata": {},
   "outputs": [
    {
     "name": "stdout",
     "output_type": "stream",
     "text": [
      "country\n",
      "Europe Union          5\n",
      "United Kingdom       12\n",
      "United States         7\n",
      "Name: title, dtype: int64\n",
      "\n"
     ]
    }
   ],
   "source": [
    "print(df.groupby(['country'])['title'].count())\n",
    "print(\"\")"
   ]
  },
  {
   "cell_type": "code",
   "execution_count": null,
   "metadata": {},
   "outputs": [],
   "source": []
  }
 ],
 "metadata": {
  "kernelspec": {
   "display_name": "Python 3",
   "language": "python",
   "name": "python3"
  },
  "language_info": {
   "codemirror_mode": {
    "name": "ipython",
    "version": 3
   },
   "file_extension": ".py",
   "mimetype": "text/x-python",
   "name": "python",
   "nbconvert_exporter": "python",
   "pygments_lexer": "ipython3",
   "version": "3.8.5"
  }
 },
 "nbformat": 4,
 "nbformat_minor": 2
}
