{
 "cells": [
  {
   "cell_type": "code",
   "execution_count": 1,
   "metadata": {},
   "outputs": [],
   "source": [
    "\"\"\"\n",
    "@filename: DataFrame-CrossTab\n",
    "@author: waisullah yousofi\n",
    "@url: https://pandas.pydata.org/pandas-docs/stable/reference/api/pandas.crosstab.html\n",
    "\"\"\"\n",
    "# imports\n",
    "import pandas as pd\n",
    "import numpy as np"
   ]
  },
  {
   "cell_type": "markdown",
   "metadata": {},
   "source": [
    "read dataset"
   ]
  },
  {
   "cell_type": "code",
   "execution_count": 3,
   "metadata": {},
   "outputs": [],
   "source": [
    "df = pd.read_csv('..\\dataset/northwind-m.csv')"
   ]
  },
  {
   "cell_type": "markdown",
   "metadata": {},
   "source": [
    "columns"
   ]
  },
  {
   "cell_type": "code",
   "execution_count": 4,
   "metadata": {},
   "outputs": [
    {
     "name": "stdout",
     "output_type": "stream",
     "text": [
      "\n",
      "*** Columns ***\n",
      "Index(['RefID', 'OrderID', 'OrderDate', 'CompanyName', 'ContactName', 'City',\n",
      "       'Country', 'ProductName', 'CategoryName', 'QuantityPerUnit',\n",
      "       'SalePrice', 'Quantity', 'SaleDiscount', 'CostPrice'],\n",
      "      dtype='object')\n"
     ]
    }
   ],
   "source": [
    "print(\"\\n*** Columns ***\")\n",
    "print(df.columns)"
   ]
  },
  {
   "cell_type": "markdown",
   "metadata": {},
   "source": [
    "info"
   ]
  },
  {
   "cell_type": "code",
   "execution_count": 5,
   "metadata": {},
   "outputs": [
    {
     "name": "stdout",
     "output_type": "stream",
     "text": [
      "\n",
      "*** Structure ***\n",
      "<class 'pandas.core.frame.DataFrame'>\n",
      "RangeIndex: 2305 entries, 0 to 2304\n",
      "Data columns (total 14 columns):\n",
      " #   Column           Non-Null Count  Dtype  \n",
      "---  ------           --------------  -----  \n",
      " 0   RefID            2305 non-null   int64  \n",
      " 1   OrderID          2305 non-null   int64  \n",
      " 2   OrderDate        2305 non-null   object \n",
      " 3   CompanyName      2305 non-null   object \n",
      " 4   ContactName      2305 non-null   object \n",
      " 5   City             2305 non-null   object \n",
      " 6   Country          2305 non-null   object \n",
      " 7   ProductName      2305 non-null   object \n",
      " 8   CategoryName     2305 non-null   object \n",
      " 9   QuantityPerUnit  2305 non-null   object \n",
      " 10  SalePrice        2305 non-null   float64\n",
      " 11  Quantity         2305 non-null   int64  \n",
      " 12  SaleDiscount     2305 non-null   float64\n",
      " 13  CostPrice        2305 non-null   float64\n",
      "dtypes: float64(3), int64(3), object(8)\n",
      "memory usage: 252.2+ KB\n",
      "None\n"
     ]
    }
   ],
   "source": [
    "print(\"\\n*** Structure ***\")\n",
    "print(df.info())"
   ]
  },
  {
   "cell_type": "markdown",
   "metadata": {},
   "source": [
    "summary"
   ]
  },
  {
   "cell_type": "code",
   "execution_count": 6,
   "metadata": {},
   "outputs": [
    {
     "name": "stdout",
     "output_type": "stream",
     "text": [
      "\n",
      "*** Summary ***\n",
      "               RefID       OrderID    SalePrice     Quantity  SaleDiscount  \\\n",
      "count    2305.000000   2305.000000  2305.000000  2305.000000   2305.000000   \n",
      "mean   101153.000000  10690.747505    26.258920    24.135792      0.056178   \n",
      "std       665.540507    262.111822    30.393855    20.781211      0.083444   \n",
      "min    100001.000000  10248.000000     2.000000     1.000000      0.000000   \n",
      "25%    100577.000000  10464.000000    12.000000    10.000000      0.000000   \n",
      "50%    101153.000000  10687.000000    18.400000    20.000000      0.000000   \n",
      "75%    101729.000000  10913.000000    31.230000    30.000000      0.100000   \n",
      "max    102305.000000  11204.000000   263.500000   214.000000      0.250000   \n",
      "\n",
      "         CostPrice  \n",
      "count  2305.000000  \n",
      "mean     28.311505  \n",
      "std      32.859232  \n",
      "min       2.500000  \n",
      "25%      12.750000  \n",
      "50%      19.450000  \n",
      "75%      34.000000  \n",
      "max     263.500000  \n"
     ]
    }
   ],
   "source": [
    "print(\"\\n*** Summary ***\")\n",
    "print(df.describe())"
   ]
  },
  {
   "cell_type": "markdown",
   "metadata": {},
   "source": [
    "head"
   ]
  },
  {
   "cell_type": "code",
   "execution_count": 7,
   "metadata": {},
   "outputs": [
    {
     "name": "stdout",
     "output_type": "stream",
     "text": [
      "\n",
      "*** Head ***\n",
      "    RefID  OrderID    OrderDate             CompanyName        ContactName  \\\n",
      "0  100001    10248  04-Apr-2013             Wilman Kala    Matti Karttunen   \n",
      "1  100002    10248  04-Apr-2013             Wilman Kala    Matti Karttunen   \n",
      "2  100003    10248  04-Apr-2013             Wilman Kala    Matti Karttunen   \n",
      "3  100004    10249  05-Apr-2013  Tradição Hipermercados  Anabela Domingues   \n",
      "4  100005    10249  05-Apr-2013  Tradição Hipermercados  Anabela Domingues   \n",
      "\n",
      "        City  Country                    ProductName    CategoryName  \\\n",
      "0   Helsinki  Finland                 Queso Cabrales  Dairy Products   \n",
      "1   Helsinki  Finland  Singaporean Hokkien Fried Mee  Grains/Cereals   \n",
      "2   Helsinki  Finland         Mozzarella di Giovanni  Dairy Products   \n",
      "3  São Paulo   Brazil                           Tofu         Produce   \n",
      "4  São Paulo   Brazil          Manjimup Dried Apples         Produce   \n",
      "\n",
      "    QuantityPerUnit  SalePrice  Quantity  SaleDiscount  CostPrice  \n",
      "0         1 kg pkg.       14.0        12           0.0      21.00  \n",
      "1   32 - 1 kg pkgs.        9.8        10           0.0      14.00  \n",
      "2  24 - 200 g pkgs.       34.8         5           0.0      34.80  \n",
      "3  40 - 100 g pkgs.       18.6         9           0.0      23.25  \n",
      "4  50 - 300 g pkgs.       42.4        40           0.0      53.00  \n"
     ]
    }
   ],
   "source": [
    "print(\"\\n*** Head ***\")\n",
    "print(df.head())"
   ]
  },
  {
   "cell_type": "code",
   "execution_count": 8,
   "metadata": {},
   "outputs": [],
   "source": [
    "df['SaleAmt'] = df['Quantity'] * df['SalePrice'] * (1-df['SaleDiscount'])\n",
    "df['CostAmt'] = df['Quantity'] * df['CostPrice']\n",
    "df['Profit'] = df['SaleAmt'] - df['CostAmt']"
   ]
  },
  {
   "cell_type": "markdown",
   "metadata": {},
   "source": [
    "groupby count"
   ]
  },
  {
   "cell_type": "code",
   "execution_count": 9,
   "metadata": {},
   "outputs": [
    {
     "name": "stdout",
     "output_type": "stream",
     "text": [
      "CompanyName          ProductName                 \n",
      "Alfreds Futterkiste  Aniseed Syrup                   1\n",
      "                     Chartreuse verte                1\n",
      "                     Escargots de Bourgogne          1\n",
      "                     Fløtemysost                     1\n",
      "                     Grandma's Boysenberry Spread    1\n",
      "                                                    ..\n",
      "Wolski  Zajazd       Scottish Longbreads             1\n",
      "                     Sirop d'érable                  2\n",
      "                     Steeleye Stout                  1\n",
      "                     Tarte au sucre                  1\n",
      "                     Tourtière                       1\n",
      "Name: RefID, Length: 1788, dtype: int64\n",
      "CompanyName          ProductName                 \n",
      "Alfreds Futterkiste  Aniseed Syrup                    60.00\n",
      "                     Chartreuse verte                283.50\n",
      "                     Escargots de Bourgogne          503.50\n",
      "                     Fløtemysost                     430.00\n",
      "                     Grandma's Boysenberry Spread    380.00\n",
      "                                                      ...  \n",
      "Wolski  Zajazd       Scottish Longbreads             187.50\n",
      "                     Sirop d'érable                  627.00\n",
      "                     Steeleye Stout                   54.00\n",
      "                     Tarte au sucre                  591.60\n",
      "                     Tourtière                        22.35\n",
      "Name: SaleAmt, Length: 1788, dtype: float64\n"
     ]
    }
   ],
   "source": [
    "print(df.groupby(['CompanyName', 'ProductName'])['RefID'].count())\n",
    "# groupby sum\n",
    "print(df.groupby(['CompanyName', 'ProductName'])['SaleAmt'].sum())"
   ]
  },
  {
   "cell_type": "markdown",
   "metadata": {},
   "source": [
    "pivot table - Company Name<br>\n",
    "index - single column"
   ]
  },
  {
   "cell_type": "code",
   "execution_count": 10,
   "metadata": {},
   "outputs": [],
   "source": [
    "pd.pivot_table(df, index=[\"CompanyName\"])\n",
    "# index - multi column\n",
    "pd.pivot_table(df, index=[\"CompanyName\",\"ProductName\"])\n",
    "# value - single\n",
    "pd.pivot_table(df, index=[\"CompanyName\",\"ProductName\"], values=[\"SaleAmt\"])\n",
    "# value - multi col\n",
    "pd.pivot_table(df, index=[\"CompanyName\",\"ProductName\"], values=[\"SaleAmt\",\"CostAmt\",\"Profit\"])\n",
    "# agg funcs = len np.sum, np.mean, np.max, np.min\n",
    "pd.pivot_table(df, index=[\"CompanyName\",\"ProductName\"], values=[\"SaleAmt\",\"CostAmt\",\"Profit\"], aggfunc=[np.sum])\n",
    "# assign to df\n",
    "dfcn = pd.pivot_table(df, index=[\"CompanyName\",\"ProductName\"], values=[\"SaleAmt\",\"CostAmt\",\"Profit\"], aggfunc=[np.sum])"
   ]
  },
  {
   "cell_type": "markdown",
   "metadata": {},
   "source": [
    "pivot table - Product Name"
   ]
  },
  {
   "cell_type": "code",
   "execution_count": 11,
   "metadata": {},
   "outputs": [],
   "source": [
    "dfpn = pd.pivot_table(df, index=[\"ProductName\",\"CompanyName\"], values=[\"SaleAmt\",\"CostAmt\",\"Profit\"], aggfunc=[np.sum])"
   ]
  },
  {
   "cell_type": "markdown",
   "metadata": {},
   "source": [
    "pivot table - Category Name"
   ]
  },
  {
   "cell_type": "code",
   "execution_count": 12,
   "metadata": {},
   "outputs": [
    {
     "data": {
      "text/html": [
       "<div>\n",
       "<style scoped>\n",
       "    .dataframe tbody tr th:only-of-type {\n",
       "        vertical-align: middle;\n",
       "    }\n",
       "\n",
       "    .dataframe tbody tr th {\n",
       "        vertical-align: top;\n",
       "    }\n",
       "\n",
       "    .dataframe thead tr th {\n",
       "        text-align: left;\n",
       "    }\n",
       "\n",
       "    .dataframe thead tr:last-of-type th {\n",
       "        text-align: right;\n",
       "    }\n",
       "</style>\n",
       "<table border=\"1\" class=\"dataframe\">\n",
       "  <thead>\n",
       "    <tr>\n",
       "      <th></th>\n",
       "      <th colspan=\"3\" halign=\"left\">sum</th>\n",
       "    </tr>\n",
       "    <tr>\n",
       "      <th></th>\n",
       "      <th>CostAmt</th>\n",
       "      <th>Profit</th>\n",
       "      <th>SaleAmt</th>\n",
       "    </tr>\n",
       "    <tr>\n",
       "      <th>CategoryName</th>\n",
       "      <th></th>\n",
       "      <th></th>\n",
       "      <th></th>\n",
       "    </tr>\n",
       "  </thead>\n",
       "  <tbody>\n",
       "    <tr>\n",
       "      <th>Beverages</th>\n",
       "      <td>598863.25</td>\n",
       "      <td>-106554.5460</td>\n",
       "      <td>492308.7040</td>\n",
       "    </tr>\n",
       "    <tr>\n",
       "      <th>Condiments</th>\n",
       "      <td>128568.95</td>\n",
       "      <td>-17902.3550</td>\n",
       "      <td>110666.5950</td>\n",
       "    </tr>\n",
       "    <tr>\n",
       "      <th>Confections</th>\n",
       "      <td>202706.74</td>\n",
       "      <td>-25934.7990</td>\n",
       "      <td>176771.9410</td>\n",
       "    </tr>\n",
       "    <tr>\n",
       "      <th>Dairy Products</th>\n",
       "      <td>285381.60</td>\n",
       "      <td>-38236.1750</td>\n",
       "      <td>247145.4250</td>\n",
       "    </tr>\n",
       "    <tr>\n",
       "      <th>Grains/Cereals</th>\n",
       "      <td>112569.75</td>\n",
       "      <td>-12571.8725</td>\n",
       "      <td>99997.8775</td>\n",
       "    </tr>\n",
       "    <tr>\n",
       "      <th>Meat/Poultry</th>\n",
       "      <td>238602.65</td>\n",
       "      <td>-38911.7665</td>\n",
       "      <td>199690.8835</td>\n",
       "    </tr>\n",
       "    <tr>\n",
       "      <th>Produce</th>\n",
       "      <td>123950.95</td>\n",
       "      <td>-14772.3900</td>\n",
       "      <td>109178.5600</td>\n",
       "    </tr>\n",
       "    <tr>\n",
       "      <th>Seafood</th>\n",
       "      <td>168297.94</td>\n",
       "      <td>-22712.0285</td>\n",
       "      <td>145585.9115</td>\n",
       "    </tr>\n",
       "  </tbody>\n",
       "</table>\n",
       "</div>"
      ],
      "text/plain": [
       "                      sum                          \n",
       "                  CostAmt       Profit      SaleAmt\n",
       "CategoryName                                       \n",
       "Beverages       598863.25 -106554.5460  492308.7040\n",
       "Condiments      128568.95  -17902.3550  110666.5950\n",
       "Confections     202706.74  -25934.7990  176771.9410\n",
       "Dairy Products  285381.60  -38236.1750  247145.4250\n",
       "Grains/Cereals  112569.75  -12571.8725   99997.8775\n",
       "Meat/Poultry    238602.65  -38911.7665  199690.8835\n",
       "Produce         123950.95  -14772.3900  109178.5600\n",
       "Seafood         168297.94  -22712.0285  145585.9115"
      ]
     },
     "execution_count": 12,
     "metadata": {},
     "output_type": "execute_result"
    }
   ],
   "source": [
    "pd.pivot_table(df, index=[\"CategoryName\"], values=[\"SaleAmt\",\"CostAmt\",\"Profit\"], aggfunc=[np.sum])"
   ]
  },
  {
   "cell_type": "code",
   "execution_count": null,
   "metadata": {},
   "outputs": [],
   "source": []
  },
  {
   "cell_type": "code",
   "execution_count": null,
   "metadata": {},
   "outputs": [],
   "source": []
  }
 ],
 "metadata": {
  "kernelspec": {
   "display_name": "Python 3",
   "language": "python",
   "name": "python3"
  },
  "language_info": {
   "codemirror_mode": {
    "name": "ipython",
    "version": 3
   },
   "file_extension": ".py",
   "mimetype": "text/x-python",
   "name": "python",
   "nbconvert_exporter": "python",
   "pygments_lexer": "ipython3",
   "version": "3.8.5"
  }
 },
 "nbformat": 4,
 "nbformat_minor": 2
}
