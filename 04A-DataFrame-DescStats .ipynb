{
 "cells": [
  {
   "cell_type": "code",
   "execution_count": 1,
   "metadata": {},
   "outputs": [
    {
     "data": {
      "text/plain": [
       "'\\n@filename: DataFrame-DescStats\\n@author: Waisullah yousofi\\n@url: https://pandas.pydata.org/pandas-docs/stable/index.html\\n'"
      ]
     },
     "execution_count": 1,
     "metadata": {},
     "output_type": "execute_result"
    }
   ],
   "source": [
    "\"\"\"\n",
    "@filename: DataFrame-DescStats\n",
    "@author: Waisullah yousofi\n",
    "@url: https://pandas.pydata.org/pandas-docs/stable/index.html\n",
    "\"\"\""
   ]
  },
  {
   "cell_type": "markdown",
   "metadata": {},
   "source": [
    "import modules"
   ]
  },
  {
   "cell_type": "code",
   "execution_count": 2,
   "metadata": {},
   "outputs": [],
   "source": [
    "import pandas as pd"
   ]
  },
  {
   "cell_type": "markdown",
   "metadata": {},
   "source": [
    "create dataframe"
   ]
  },
  {
   "cell_type": "code",
   "execution_count": 3,
   "metadata": {},
   "outputs": [
    {
     "name": "stdout",
     "output_type": "stream",
     "text": [
      "    name  gender  age  preTestScore  postTestScore\n",
      "0  Jason    Male   42             4             25\n",
      "1  Molly  Female   52            24             94\n",
      "2   Tina  Female   36            31             57\n",
      "3   Jake    Male   24             2             62\n",
      "4    Amy  Female   73             3             70\n"
     ]
    }
   ],
   "source": [
    "data = {'name': ['Jason', 'Molly', 'Tina', 'Jake', 'Amy'],\n",
    "        'gender': ['Male','Female','Female','Male','Female'],\n",
    "        'age': [42, 52, 36, 24, 73],\n",
    "        'preTestScore': [4, 24, 31, 2, 3],\n",
    "        'postTestScore': [25, 94, 57, 62, 70]}\n",
    "df = pd.DataFrame(data)\n",
    "print(df)"
   ]
  },
  {
   "cell_type": "code",
   "execution_count": 4,
   "metadata": {},
   "outputs": [
    {
     "name": "stdout",
     "output_type": "stream",
     "text": [
      "0    Jason\n",
      "1    Molly\n",
      "2     Tina\n",
      "3     Jake\n",
      "4      Amy\n",
      "Name: name, dtype: object\n"
     ]
    }
   ],
   "source": [
    "print(df['name'])"
   ]
  },
  {
   "cell_type": "markdown",
   "metadata": {},
   "source": [
    "count the number of non-NA values"
   ]
  },
  {
   "cell_type": "code",
   "execution_count": 5,
   "metadata": {},
   "outputs": [
    {
     "name": "stdout",
     "output_type": "stream",
     "text": [
      "Count Non-NA\n",
      "5\n",
      "5\n"
     ]
    }
   ],
   "source": [
    "print(\"Count Non-NA\")\n",
    "print(df['name'].count())\n",
    "print(df['preTestScore'].count())"
   ]
  },
  {
   "cell_type": "markdown",
   "metadata": {},
   "source": [
    "sum"
   ]
  },
  {
   "cell_type": "code",
   "execution_count": 6,
   "metadata": {},
   "outputs": [
    {
     "name": "stdout",
     "output_type": "stream",
     "text": [
      "Sum\n",
      "227\n"
     ]
    }
   ],
   "source": [
    "print(\"Sum\")\n",
    "print(df['age'].sum())"
   ]
  },
  {
   "cell_type": "markdown",
   "metadata": {},
   "source": [
    "mean preTestScore"
   ]
  },
  {
   "cell_type": "code",
   "execution_count": 7,
   "metadata": {},
   "outputs": [
    {
     "name": "stdout",
     "output_type": "stream",
     "text": [
      "Mean\n",
      "12.8\n"
     ]
    }
   ],
   "source": [
    "print(\"Mean\")\n",
    "print(df['preTestScore'].mean())"
   ]
  },
  {
   "cell_type": "markdown",
   "metadata": {},
   "source": [
    "cumulative sum of preTestScores, moving from the rows from the top"
   ]
  },
  {
   "cell_type": "code",
   "execution_count": 8,
   "metadata": {},
   "outputs": [
    {
     "name": "stdout",
     "output_type": "stream",
     "text": [
      "CumSum\n",
      "0     4\n",
      "1    28\n",
      "2    59\n",
      "3    61\n",
      "4    64\n",
      "Name: preTestScore, dtype: int64\n"
     ]
    }
   ],
   "source": [
    "print(\"CumSum\")\n",
    "print(df['preTestScore'].cumsum())"
   ]
  },
  {
   "cell_type": "markdown",
   "metadata": {},
   "source": [
    "summary statistics on preTestScore"
   ]
  },
  {
   "cell_type": "code",
   "execution_count": 9,
   "metadata": {},
   "outputs": [
    {
     "name": "stdout",
     "output_type": "stream",
     "text": [
      "Summary\n",
      "count     5.000000\n",
      "mean     12.800000\n",
      "std      13.663821\n",
      "min       2.000000\n",
      "25%       3.000000\n",
      "50%       4.000000\n",
      "75%      24.000000\n",
      "max      31.000000\n",
      "Name: preTestScore, dtype: float64\n"
     ]
    }
   ],
   "source": [
    "print(\"Summary\")\n",
    "print(df['preTestScore'].describe())"
   ]
  },
  {
   "cell_type": "markdown",
   "metadata": {},
   "source": [
    "summary statistics on df"
   ]
  },
  {
   "cell_type": "code",
   "execution_count": 10,
   "metadata": {},
   "outputs": [
    {
     "name": "stdout",
     "output_type": "stream",
     "text": [
      "df Summary\n",
      "             age  preTestScore  postTestScore\n",
      "count   5.000000      5.000000       5.000000\n",
      "mean   45.400000     12.800000      61.600000\n",
      "std    18.460769     13.663821      24.905823\n",
      "min    24.000000      2.000000      25.000000\n",
      "25%    36.000000      3.000000      57.000000\n",
      "50%    42.000000      4.000000      62.000000\n",
      "75%    52.000000     24.000000      70.000000\n",
      "max    73.000000     31.000000      94.000000\n"
     ]
    }
   ],
   "source": [
    "print(\"df Summary\")\n",
    "print(df.describe())"
   ]
  },
  {
   "cell_type": "markdown",
   "metadata": {},
   "source": [
    "summary statistics on string cols - non categoric"
   ]
  },
  {
   "cell_type": "code",
   "execution_count": 11,
   "metadata": {},
   "outputs": [
    {
     "name": "stdout",
     "output_type": "stream",
     "text": [
      "df Summary\n",
      "count         5\n",
      "unique        5\n",
      "top       Jason\n",
      "freq          1\n",
      "Name: name, dtype: object\n"
     ]
    }
   ],
   "source": [
    "print(\"df Summary\")\n",
    "print(df['name'].describe())"
   ]
  },
  {
   "cell_type": "markdown",
   "metadata": {},
   "source": [
    "summary statistics on string cols - categoric"
   ]
  },
  {
   "cell_type": "code",
   "execution_count": 12,
   "metadata": {},
   "outputs": [
    {
     "name": "stdout",
     "output_type": "stream",
     "text": [
      "df Summary\n",
      "count          5\n",
      "unique         2\n",
      "top       Female\n",
      "freq           3\n",
      "Name: gender, dtype: object\n"
     ]
    }
   ],
   "source": [
    "print(\"df Summary\")\n",
    "print(df['gender'].describe())"
   ]
  },
  {
   "cell_type": "markdown",
   "metadata": {},
   "source": [
    "minimum value of preTestScore"
   ]
  },
  {
   "cell_type": "code",
   "execution_count": 13,
   "metadata": {},
   "outputs": [
    {
     "name": "stdout",
     "output_type": "stream",
     "text": [
      "Minimum\n",
      "2\n"
     ]
    }
   ],
   "source": [
    "print(\"Minimum\")\n",
    "print(df['preTestScore'].min())"
   ]
  },
  {
   "cell_type": "markdown",
   "metadata": {},
   "source": [
    "maximum value of preTestScore"
   ]
  },
  {
   "cell_type": "code",
   "execution_count": 14,
   "metadata": {},
   "outputs": [
    {
     "name": "stdout",
     "output_type": "stream",
     "text": [
      "Maximum\n",
      "31\n"
     ]
    }
   ],
   "source": [
    "print(\"Maximum\")\n",
    "print(df['preTestScore'].max())"
   ]
  },
  {
   "cell_type": "markdown",
   "metadata": {},
   "source": [
    "median value of preTestScore"
   ]
  },
  {
   "cell_type": "code",
   "execution_count": 15,
   "metadata": {},
   "outputs": [
    {
     "name": "stdout",
     "output_type": "stream",
     "text": [
      "Median\n",
      "4.0\n"
     ]
    }
   ],
   "source": [
    "print(\"Median\")\n",
    "print(df['preTestScore'].median())"
   ]
  },
  {
   "cell_type": "markdown",
   "metadata": {},
   "source": [
    "variance of preTestScore values"
   ]
  },
  {
   "cell_type": "code",
   "execution_count": 16,
   "metadata": {},
   "outputs": [
    {
     "name": "stdout",
     "output_type": "stream",
     "text": [
      "Variance\n",
      "186.7\n"
     ]
    }
   ],
   "source": [
    "print(\"Variance\")\n",
    "print(df['preTestScore'].var())"
   ]
  },
  {
   "cell_type": "markdown",
   "metadata": {},
   "source": [
    "standard deviation of preTestScore values"
   ]
  },
  {
   "cell_type": "code",
   "execution_count": 17,
   "metadata": {},
   "outputs": [
    {
     "name": "stdout",
     "output_type": "stream",
     "text": [
      "StdDev\n",
      "13.663820841916802\n"
     ]
    }
   ],
   "source": [
    "print(\"StdDev\")\n",
    "print(df['preTestScore'].std())"
   ]
  },
  {
   "cell_type": "markdown",
   "metadata": {},
   "source": [
    "group count"
   ]
  },
  {
   "cell_type": "code",
   "execution_count": 18,
   "metadata": {},
   "outputs": [
    {
     "name": "stdout",
     "output_type": "stream",
     "text": [
      "Group Count\n",
      "gender\n",
      "Female    3\n",
      "Male      2\n",
      "Name: name, dtype: int64\n"
     ]
    }
   ],
   "source": [
    "print(\"Group Count\")\n",
    "print(df.groupby(['gender'])['name'].count())"
   ]
  },
  {
   "cell_type": "markdown",
   "metadata": {},
   "source": [
    "group sum"
   ]
  },
  {
   "cell_type": "code",
   "execution_count": 19,
   "metadata": {},
   "outputs": [
    {
     "name": "stdout",
     "output_type": "stream",
     "text": [
      "Group Sum\n",
      "gender\n",
      "Female    161\n",
      "Male       66\n",
      "Name: age, dtype: int64\n"
     ]
    }
   ],
   "source": [
    "print(\"Group Sum\")\n",
    "print(df.groupby(['gender'])['age'].sum())"
   ]
  },
  {
   "cell_type": "code",
   "execution_count": null,
   "metadata": {},
   "outputs": [],
   "source": []
  },
  {
   "cell_type": "code",
   "execution_count": null,
   "metadata": {},
   "outputs": [],
   "source": []
  }
 ],
 "metadata": {
  "kernelspec": {
   "display_name": "Python 3",
   "language": "python",
   "name": "python3"
  },
  "language_info": {
   "codemirror_mode": {
    "name": "ipython",
    "version": 3
   },
   "file_extension": ".py",
   "mimetype": "text/x-python",
   "name": "python",
   "nbconvert_exporter": "python",
   "pygments_lexer": "ipython3",
   "version": "3.8.5"
  }
 },
 "nbformat": 4,
 "nbformat_minor": 2
}
